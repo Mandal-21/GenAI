{
 "cells": [
  {
   "cell_type": "code",
   "execution_count": 2,
   "id": "76561152",
   "metadata": {},
   "outputs": [],
   "source": [
    "from dotenv import load_dotenv\n",
    "import os\n",
    "\n",
    "load_dotenv()\n",
    "\n",
    "os.environ['HF_TOKEN'] = os.getenv('HF_TOKEN')"
   ]
  },
  {
   "cell_type": "code",
   "execution_count": 3,
   "id": "648c3dbf",
   "metadata": {},
   "outputs": [
    {
     "name": "stderr",
     "output_type": "stream",
     "text": [
      "/Users/amarmandal/Documents/coding/GenAI_Course/venv/lib/python3.10/site-packages/tqdm/auto.py:21: TqdmWarning: IProgress not found. Please update jupyter and ipywidgets. See https://ipywidgets.readthedocs.io/en/stable/user_install.html\n",
      "  from .autonotebook import tqdm as notebook_tqdm\n"
     ]
    },
    {
     "name": "stdout",
     "output_type": "stream",
     "text": [
      "Embedding for the text 'The quick brown fox jumps over the lazy dog.':\n",
      "384\n"
     ]
    }
   ],
   "source": [
    "from langchain_huggingface import HuggingFaceEmbeddings\n",
    "hf_embeddings = HuggingFaceEmbeddings(\n",
    "    model_name=\"sentence-transformers/all-MiniLM-L6-v2\"\n",
    ")\n",
    "\n",
    "text = \"The quick brown fox jumps over the lazy dog.\"\n",
    "embedding = hf_embeddings.embed_query(text)\n",
    "print(f\"Embedding for the text '{text}':\")\n",
    "print(len(embedding))"
   ]
  },
  {
   "cell_type": "code",
   "execution_count": 6,
   "id": "8090c920",
   "metadata": {},
   "outputs": [
    {
     "name": "stdout",
     "output_type": "stream",
     "text": [
      "\n",
      "Similarities between the query and documents:\n",
      "Document: The quick brown fox jumps over the lazy dog. | Similarity: 0.9658\n",
      "Document: A fast brown fox leaps over a lazy canine. | Similarity: 0.9579\n",
      "Document: An entirely different sentence that does not match. | Similarity: -0.0021\n"
     ]
    }
   ],
   "source": [
    "from sklearn.metrics.pairwise import cosine_similarity\n",
    "\n",
    "\n",
    "documents = [\n",
    "    \"The quick brown fox jumps over the lazy dog.\",\n",
    "    \"A fast brown fox leaps over a lazy canine.\",\n",
    "    \"An entirely different sentence that does not match.\"\n",
    "]\n",
    "my_query = \"A quick brown fox jumps over a lazy dog.\"\n",
    "query_embedding = hf_embeddings.embed_query(my_query)\n",
    "document_embeddings = hf_embeddings.embed_documents(documents)\n",
    "cs = cosine_similarity([query_embedding], document_embeddings)\n",
    "similarities = []\n",
    "for i, doc in enumerate(documents):\n",
    "    similarities.append((doc, cs[0][i]))\n",
    "\n",
    "print(\"\\nSimilarities between the query and documents:\")\n",
    "for doc, sim in similarities:\n",
    "    print(f\"Document: {doc} | Similarity: {sim:.4f}\")\n"
   ]
  },
  {
   "cell_type": "code",
   "execution_count": 7,
   "id": "91cdf4b5",
   "metadata": {},
   "outputs": [
    {
     "name": "stdout",
     "output_type": "stream",
     "text": [
      "\n",
      "Euclidean distances between the query and documents:\n",
      "Document: The quick brown fox jumps over the lazy dog. | Distance: 0.2617\n",
      "Document: A fast brown fox leaps over a lazy canine. | Distance: 0.2902\n",
      "Document: An entirely different sentence that does not match. | Distance: 1.4157\n"
     ]
    }
   ],
   "source": [
    "from sklearn.metrics.pairwise import euclidean_distances\n",
    "\n",
    "ed = euclidean_distances([query_embedding], document_embeddings)\n",
    "print(\"\\nEuclidean distances between the query and documents:\")\n",
    "for i, doc in enumerate(documents):\n",
    "    print(f\"Document: {doc} | Distance: {ed[0][i]:.4f}\")"
   ]
  },
  {
   "cell_type": "markdown",
   "id": "fa2504eb",
   "metadata": {},
   "source": [
    "#### FAISS"
   ]
  },
  {
   "cell_type": "code",
   "execution_count": 19,
   "id": "896c393d",
   "metadata": {},
   "outputs": [],
   "source": [
    "import faiss\n",
    "from langchain_community.vectorstores import FAISS\n",
    "from langchain_community.docstore.in_memory import InMemoryDocstore\n"
   ]
  },
  {
   "cell_type": "code",
   "execution_count": 20,
   "id": "c008b577",
   "metadata": {},
   "outputs": [],
   "source": [
    "index = faiss.IndexFlatL2(384)  # 384 is the dimension of the embeddings"
   ]
  },
  {
   "cell_type": "code",
   "execution_count": 21,
   "id": "30cb26fc",
   "metadata": {},
   "outputs": [],
   "source": [
    "FAISS_store = FAISS(\n",
    "    index=index,\n",
    "    embedding_function=hf_embeddings,\n",
    "    docstore=InMemoryDocstore(),\n",
    "    index_to_docstore_id={},\n",
    ")"
   ]
  },
  {
   "cell_type": "code",
   "execution_count": 22,
   "id": "5d0c2a9f",
   "metadata": {},
   "outputs": [
    {
     "data": {
      "text/plain": [
       "['de23fe99-1091-47dd-abde-f665bc7b506b',\n",
       " 'a22e72a7-9eef-4e8e-bbe1-06f8503bf319',\n",
       " 'c89ac125-bd0e-4fb6-89b5-2c6ebcf13e5a']"
      ]
     },
     "execution_count": 22,
     "metadata": {},
     "output_type": "execute_result"
    }
   ],
   "source": [
    "FAISS_store.add_texts([\"AI is transforming the world.\", \"Machine learning is a subset of AI.\", \"This is a completely different sentence.\"])"
   ]
  },
  {
   "cell_type": "code",
   "execution_count": 23,
   "id": "c2eb5d4f",
   "metadata": {},
   "outputs": [
    {
     "data": {
      "text/plain": [
       "{0: 'de23fe99-1091-47dd-abde-f665bc7b506b',\n",
       " 1: 'a22e72a7-9eef-4e8e-bbe1-06f8503bf319',\n",
       " 2: 'c89ac125-bd0e-4fb6-89b5-2c6ebcf13e5a'}"
      ]
     },
     "execution_count": 23,
     "metadata": {},
     "output_type": "execute_result"
    }
   ],
   "source": [
    "FAISS_store.index_to_docstore_id"
   ]
  },
  {
   "cell_type": "code",
   "execution_count": 24,
   "id": "030a48a0",
   "metadata": {},
   "outputs": [
    {
     "data": {
      "text/plain": [
       "[Document(id='de23fe99-1091-47dd-abde-f665bc7b506b', metadata={}, page_content='AI is transforming the world.'),\n",
       " Document(id='a22e72a7-9eef-4e8e-bbe1-06f8503bf319', metadata={}, page_content='Machine learning is a subset of AI.')]"
      ]
     },
     "execution_count": 24,
     "metadata": {},
     "output_type": "execute_result"
    }
   ],
   "source": [
    "FAISS_store.similarity_search(\"What is AI?\", k=2)"
   ]
  },
  {
   "cell_type": "markdown",
   "id": "6d4a2d8e",
   "metadata": {},
   "source": [
    "# 🔍 Vector Index Types: Flat vs IVF vs HNSW\n",
    "\n",
    "Vector databases use different indexing methods for similarity search. Here's a detailed comparison:\n",
    "\n",
    "| Feature                     | Flat (Brute Force)                        | IVF (Inverted File Index)                             | HNSW (Hierarchical Navigable Small World)             |\n",
    "|----------------------------|-------------------------------------------|--------------------------------------------------------|--------------------------------------------------------|\n",
    "| 🔧 Index Type              | Exhaustive Search                         | Quantization + Clustering                             | Graph-Based Search                                     |\n",
    "| ⚡ Speed                   | Slowest (linear scan)                     | Faster (search within clusters)                       | Fastest (logarithmic-like via graph traversal)        |\n",
    "| 🎯 Accuracy               | 100% (Exact)                              | Approximate (depends on `nlist` & `nprobe`)           | Approximate but high-quality                          |\n",
    "| 📦 Memory Usage           | High (stores all vectors)                 | Moderate (stores centroids + data)                   | Low (compact graph structure)                         |\n",
    "| 📊 Data Size Range        | ✅ Small (≤ 10K vectors)                  | ✅ Medium (10K–1M vectors)                            | ✅ Large (100K–100M+ vectors)                         |\n",
    "| 🧠 Use Case Suitability    | Small datasets, highest accuracy needed   | Medium datasets, balance of speed and accuracy        | Large-scale datasets, low-latency requirements        |\n",
    "| 🏗️ Build Time             | None (no preprocessing)                   | Requires clustering (e.g., K-means)                   | Slower (graph construction)                           |\n",
    "| 🔄 Insert/Delete Support   | Easy (no structure to update)             | Moderate (needs re-clustering or partial rebuild)     | Hard (graph needs rebalancing)                        |\n",
    "| 🛠️ Tunable Parameters     | None                                      | `nlist`, `nprobe`                                     | `ef_construction`, `M`, `ef_search`                   |\n",
    "\n",
    "## 🧪 Summary\n",
    "\n",
    "- **Flat**: Best for exact search on small datasets.\n",
    "- **IVF**: Good balance of speed vs accuracy using clustering.\n",
    "- **HNSW**: Optimal for large-scale ANN with low latency.\n",
    "\n",
    "> ✅ Tip: Start with Flat for prototyping, switch to IVF or HNSW for production-scale workloads."
   ]
  },
  {
   "cell_type": "markdown",
   "id": "68e70f4d",
   "metadata": {},
   "source": [
    "# 🧠 FAISS Index Selection Guide by Dataset Size\n",
    "\n",
    "Choosing the right FAISS index depends on the number of vectors, latency requirements, and available compute/memory. Below is a practical guide:\n",
    "\n",
    "| Dataset Size       | Recommended Index Type(s)         | Description                                                                 | Accuracy      | Speed     | Tunable Params                  |\n",
    "|--------------------|-----------------------------------|------------------------------------------------------------------------------|---------------|-----------|----------------------------------|\n",
    "| 🔹 ≤ 10K vectors    | `IndexFlatL2`, `IndexFlatIP`      | Exact search. No indexing overhead. Ideal for small datasets or prototyping. | ✅ 100% exact | ❌ Slow    | None                             |\n",
    "| 🔸 10K – 100K       | `IndexIVFFlat`, `IndexIVFPQ`      | IVF with flat or product quantization. Needs training (KMeans).              | ⚠️ Approx.    | ✅ Fast    | `nlist`, `nprobe`, `m`, `nbits` |\n",
    "| 🟠 100K – 1M        | `IndexIVFPQ`, `IndexIVFSQ8`       | IVF + Product/SQ quantization. Great tradeoff between memory and speed.      | ⚠️ Approx.    | ✅ Fast    | `nlist`, `nprobe`, `m`          |\n",
    "| 🔴 1M – 10M         | `IndexIVFPQ`, `IndexHNSWFlat`     | IVF-PQ for memory efficiency; HNSW for fast recall in high dimension.        | ⚠️ Approx.    | ⚡ Very fast | `efConstruction`, `M`           |\n",
    "| 🔵 10M – 100M+      | `IndexHNSWFlat`, `IndexIVF_HNSW`  | HNSW variants scale well, retain high accuracy.                              | ⚠️ Approx.    | ⚡⚡ Ultra-fast | `efConstruction`, `efSearch`  |\n",
    "\n",
    "## 🔧 Notes\n",
    "\n",
    "- **IndexFlatL2**: Exact search with L2 distance; stores all vectors as-is.\n",
    "- **IndexIVFFlat**: Clusters vectors into `nlist` partitions. Searches `nprobe` clusters.\n",
    "- **IndexIVFPQ**: IVF + product quantization for memory savings.\n",
    "- **IndexIVFSQ8**: IVF + scalar quantization.\n",
    "- **IndexHNSWFlat**: Graph-based, excellent for low-latency ANN.\n",
    "- **IndexIVF_HNSW**: Combines IVF clustering with HNSW graph traversal.\n",
    "\n",
    "> 🚀 Tip: Always train IVF-based indexes with representative training data using `.train()`.\n",
    "\n",
    "## 🧪 Prototyping vs Production\n",
    "\n",
    "- Start with `IndexFlat*` to evaluate performance.\n",
    "- Scale to `IVFPQ` or `HNSWFlat` for millions of vectors."
   ]
  },
  {
   "cell_type": "code",
   "execution_count": 25,
   "id": "d5f07833",
   "metadata": {},
   "outputs": [],
   "source": [
    "from langchain_core.documents import Document\n",
    "\n",
    "doc1 = Document(\n",
    "    page_content=\"AI is the simulation of human intelligence in machines.\",\n",
    "    metadata={\"source\": \"doc1\", \"author\": \"John Doe\"}\n",
    ")\n",
    "doc2 = Document(\n",
    "    page_content=\"Machine learning is a branch of AI that focuses on the development of algorithms that allow computers to learn from and make predictions based on data.\",\n",
    "    metadata={\"source\": \"doc2\", \"author\": \"Jane Smith\"}\n",
    ")\n",
    "doc3 = Document(\n",
    "    page_content=\"Natural language processing is a field of AI that enables machines to understand and interpret human language.\",\n",
    "    metadata={\"source\": \"doc3\", \"author\": \"Alice Johnson\"}\n",
    ")\n",
    "doc4 = Document(\n",
    "    page_content=\"Deep learning is a subset of machine learning that uses neural networks to model complex patterns in data.\",\n",
    "    metadata={\"source\": \"doc4\", \"author\": \"Bob Brown\"}\n",
    ")\n",
    "doc5 = Document(\n",
    "    page_content=\"Reinforcement learning is an area of machine learning where an agent learns to make decisions by taking actions in an environment to maximize cumulative reward.\",\n",
    "    metadata={\"source\": \"doc5\", \"author\": \"Charlie Davis\"}\n",
    ")\n",
    "doc6 = Document(\n",
    "    page_content=\"Computer vision is a field of AI that enables machines to interpret and understand visual information from the world.\",\n",
    "    metadata={\"source\": \"doc6\", \"author\": \"Eve White\"}\n",
    ")\n",
    "doc7 = Document(\n",
    "    page_content=\"Robotics is an interdisciplinary field that integrates AI, machine learning, and engineering to design and build intelligent machines.\",\n",
    "    metadata={\"source\": \"doc7\", \"author\": \"Frank Green\"}\n",
    ")\n",
    "doc8 = Document(\n",
    "    page_content=\"AI ethics is a field that examines the ethical implications and societal impact of AI technologies.\",\n",
    "    metadata={\"source\": \"doc8\", \"author\": \"Grace Black\"}\n",
    ")\n",
    "\n",
    "docs = [doc1, doc2, doc3, doc4, doc5, doc6, doc7, doc8]"
   ]
  },
  {
   "cell_type": "code",
   "execution_count": 26,
   "id": "658c56d5",
   "metadata": {},
   "outputs": [],
   "source": [
    "index = faiss.IndexFlatL2(384)  # 384 is the dimension of the embeddings\n",
    "\n",
    "FAISS_store = FAISS(\n",
    "    index=index,\n",
    "    embedding_function=hf_embeddings,\n",
    "    docstore=InMemoryDocstore(),\n",
    "    index_to_docstore_id={},\n",
    ")"
   ]
  },
  {
   "cell_type": "code",
   "execution_count": 27,
   "id": "60b714fc",
   "metadata": {},
   "outputs": [
    {
     "data": {
      "text/plain": [
       "['4291a834-63a6-453e-9ef3-16496b604d63',\n",
       " '225dcd1c-da2b-4ef8-a4f3-a6ef55b44e47',\n",
       " '5dff80a6-72d7-4576-817b-d51986661e75',\n",
       " 'f198f259-563d-4eda-a60c-5d64137a7167',\n",
       " 'af92574d-d68c-493e-b3ec-9c5c87d9b0be',\n",
       " 'c2421d57-1676-411b-a691-da6e3fbc1d04',\n",
       " 'e3e3b92d-b20f-449c-b037-35e97bd3a871',\n",
       " 'cb1a5da9-f1ff-44a0-a9c3-6c8386aa74eb']"
      ]
     },
     "execution_count": 27,
     "metadata": {},
     "output_type": "execute_result"
    }
   ],
   "source": [
    "FAISS_store.add_documents(docs)"
   ]
  },
  {
   "cell_type": "code",
   "execution_count": 28,
   "id": "d17077c8",
   "metadata": {},
   "outputs": [
    {
     "data": {
      "text/plain": [
       "[Document(id='4291a834-63a6-453e-9ef3-16496b604d63', metadata={'source': 'doc1', 'author': 'John Doe'}, page_content='AI is the simulation of human intelligence in machines.'),\n",
       " Document(id='cb1a5da9-f1ff-44a0-a9c3-6c8386aa74eb', metadata={'source': 'doc8', 'author': 'Grace Black'}, page_content='AI ethics is a field that examines the ethical implications and societal impact of AI technologies.'),\n",
       " Document(id='225dcd1c-da2b-4ef8-a4f3-a6ef55b44e47', metadata={'source': 'doc2', 'author': 'Jane Smith'}, page_content='Machine learning is a branch of AI that focuses on the development of algorithms that allow computers to learn from and make predictions based on data.')]"
      ]
     },
     "execution_count": 28,
     "metadata": {},
     "output_type": "execute_result"
    }
   ],
   "source": [
    "FAISS_store.similarity_search(\"What is AI?\", k=3)"
   ]
  },
  {
   "cell_type": "code",
   "execution_count": 34,
   "id": "6c794222",
   "metadata": {},
   "outputs": [
    {
     "data": {
      "text/plain": [
       "[Document(id='4291a834-63a6-453e-9ef3-16496b604d63', metadata={'source': 'doc1', 'author': 'John Doe'}, page_content='AI is the simulation of human intelligence in machines.')]"
      ]
     },
     "execution_count": 34,
     "metadata": {},
     "output_type": "execute_result"
    }
   ],
   "source": [
    "FAISS_store.similarity_search(\n",
    "    \"What is AI?\", \n",
    "    k=3,\n",
    "    filter={\"author\": {\"$eq\": \"John Doe\"}},\n",
    ")"
   ]
  },
  {
   "cell_type": "code",
   "execution_count": 36,
   "id": "a59a489f",
   "metadata": {},
   "outputs": [],
   "source": [
    "retriever=FAISS_store.as_retriever(search_kwargs={\"k\": 3})"
   ]
  },
  {
   "cell_type": "code",
   "execution_count": 38,
   "id": "a895d46b",
   "metadata": {},
   "outputs": [
    {
     "data": {
      "text/plain": [
       "[Document(id='4291a834-63a6-453e-9ef3-16496b604d63', metadata={'source': 'doc1', 'author': 'John Doe'}, page_content='AI is the simulation of human intelligence in machines.'),\n",
       " Document(id='cb1a5da9-f1ff-44a0-a9c3-6c8386aa74eb', metadata={'source': 'doc8', 'author': 'Grace Black'}, page_content='AI ethics is a field that examines the ethical implications and societal impact of AI technologies.'),\n",
       " Document(id='225dcd1c-da2b-4ef8-a4f3-a6ef55b44e47', metadata={'source': 'doc2', 'author': 'Jane Smith'}, page_content='Machine learning is a branch of AI that focuses on the development of algorithms that allow computers to learn from and make predictions based on data.')]"
      ]
     },
     "execution_count": 38,
     "metadata": {},
     "output_type": "execute_result"
    }
   ],
   "source": [
    "retriever.invoke(\"What is AI?\")"
   ]
  },
  {
   "cell_type": "code",
   "execution_count": 39,
   "id": "76cd2b44",
   "metadata": {},
   "outputs": [],
   "source": [
    "# store the FAISS index to disk\n",
    "FAISS_store.save_local(\"/Users/amarmandal/Documents/coding/GenAI_Course/data/faiss_index\")"
   ]
  },
  {
   "cell_type": "code",
   "execution_count": 41,
   "id": "6e9d32d0",
   "metadata": {},
   "outputs": [
    {
     "data": {
      "text/plain": [
       "[Document(id='4291a834-63a6-453e-9ef3-16496b604d63', metadata={'source': 'doc1', 'author': 'John Doe'}, page_content='AI is the simulation of human intelligence in machines.'),\n",
       " Document(id='cb1a5da9-f1ff-44a0-a9c3-6c8386aa74eb', metadata={'source': 'doc8', 'author': 'Grace Black'}, page_content='AI ethics is a field that examines the ethical implications and societal impact of AI technologies.'),\n",
       " Document(id='225dcd1c-da2b-4ef8-a4f3-a6ef55b44e47', metadata={'source': 'doc2', 'author': 'Jane Smith'}, page_content='Machine learning is a branch of AI that focuses on the development of algorithms that allow computers to learn from and make predictions based on data.')]"
      ]
     },
     "execution_count": 41,
     "metadata": {},
     "output_type": "execute_result"
    }
   ],
   "source": [
    "# Load the FAISS index from disk\n",
    "FAISS_store_loaded = FAISS.load_local(\n",
    "    \"/Users/amarmandal/Documents/coding/GenAI_Course/data/faiss_index\",\n",
    "    hf_embeddings,\n",
    "    allow_dangerous_deserialization=True\n",
    ")\n",
    "retriever_loaded = FAISS_store_loaded.as_retriever(search_kwargs={\"k\": 3})\n",
    "retriever_loaded.invoke(\"What is AI?\")"
   ]
  },
  {
   "cell_type": "markdown",
   "id": "704f4966",
   "metadata": {},
   "source": [
    "### Excercise"
   ]
  },
  {
   "cell_type": "code",
   "execution_count": 42,
   "id": "923af336",
   "metadata": {},
   "outputs": [
    {
     "data": {
      "text/plain": [
       "53"
      ]
     },
     "execution_count": 42,
     "metadata": {},
     "output_type": "execute_result"
    }
   ],
   "source": [
    "from langchain_community.document_loaders import PyPDFLoader\n",
    "from langchain_text_splitters import RecursiveCharacterTextSplitter\n",
    "\n",
    "loader = PyPDFLoader(\"/Users/amarmandal/Documents/coding/GenAI_Course/data/AgenticAI-v2.0.pdf\")\n",
    "data = loader.load()\n",
    "\n",
    "text_splitter = RecursiveCharacterTextSplitter(chunk_size=500, chunk_overlap=50)\n",
    "final_documents = text_splitter.split_documents(data)\n",
    "len(final_documents)"
   ]
  },
  {
   "cell_type": "code",
   "execution_count": 43,
   "id": "80a55172",
   "metadata": {},
   "outputs": [],
   "source": [
    "from langchain_community.vectorstores import FAISS\n",
    "from langchain_huggingface import HuggingFaceEmbeddings\n",
    "\n",
    "hf_embeddings = HuggingFaceEmbeddings(\n",
    "    model_name=\"sentence-transformers/all-MiniLM-L6-v2\"\n",
    ")\n",
    "\n",
    "index = faiss.IndexFlatL2(384)  # 384 is the dimension of the embeddings\n",
    "FAISS_store = FAISS(\n",
    "    index=index,\n",
    "    embedding_function=hf_embeddings,\n",
    "    docstore=InMemoryDocstore(),\n",
    "    index_to_docstore_id={},\n",
    ")"
   ]
  },
  {
   "cell_type": "code",
   "execution_count": 44,
   "id": "a5f30e0c",
   "metadata": {},
   "outputs": [
    {
     "data": {
      "text/plain": [
       "['81922eef-b11d-4dc5-a986-3c6af54e5475',\n",
       " '0b53c416-bde5-44f5-9bec-221b1b359b06',\n",
       " '8d9d27e1-faae-4546-81c9-ef8fc52b0452',\n",
       " '1ad4b570-ef0a-4555-bd38-b9fd7f699c8f',\n",
       " 'e83a9d70-0a86-407a-a03b-e41239aa6de6',\n",
       " 'f7e1bfe4-1765-4100-b79f-681913f4ee4e',\n",
       " 'a45d1a03-cc12-4ac2-9424-1d4123f924b1',\n",
       " 'bd0b44ce-07ba-4fa2-a727-f948c4d8e5e2',\n",
       " 'e1b971b9-806e-4c4c-9989-20402ba4ba6a',\n",
       " 'f392ff94-d4fd-4a8b-94d3-8083c7607adb',\n",
       " '1063b4e8-6a0d-4080-9dce-081254abb2c2',\n",
       " '72c774f1-6214-433a-95d4-7759bc49ccaf',\n",
       " 'd71707d3-663f-4660-9484-4ff7d066be40',\n",
       " '5945cec1-c042-4fc8-8286-731555456e1d',\n",
       " '793e5e84-7d63-4a7a-8d21-02b363a7ebd6',\n",
       " 'ebf5c500-ff52-4213-a00e-27761998c716',\n",
       " 'eb540a53-a353-45d1-9793-8ccfd8d18a18',\n",
       " '675bdf6d-c266-469e-bc9e-d73e4fb212cb',\n",
       " 'c50e8a33-e370-4c4e-b7b3-f25cffdea54f',\n",
       " 'a5b21de6-2620-495c-a47c-cd0f5072fdb2',\n",
       " 'a2759068-b97c-488c-b72d-539fee49dccc',\n",
       " '57756842-352a-4b93-bae0-449214e1944e',\n",
       " '088da7cb-d03c-43bd-aeef-7ed17584d906',\n",
       " '32ed9559-4d56-4b8e-8390-b557d1e7d8d0',\n",
       " '1ede539a-784b-4eb9-a0b9-f8e2dbcf6a3b',\n",
       " '0b7bb79c-e676-439b-b4de-d0269c9dc0d3',\n",
       " '312aa8a5-ab2a-45ec-b173-6aad5aad92cf',\n",
       " 'bff6b061-b760-4d17-bf7e-00f4c027e65d',\n",
       " '65a672dd-46d1-4947-b028-b953d7d25973',\n",
       " 'a3a612d5-b071-45b3-b620-50d301e62ed5',\n",
       " '19b6e627-7697-4b64-8497-0323a5988534',\n",
       " '1f11b036-829d-4b47-94fb-16f6d0811e12',\n",
       " '5932c765-8d13-4529-8f25-114fb074b08d',\n",
       " '866abced-fc23-40c7-ae42-d6f8ad5ec46f',\n",
       " '61ccd238-4cc7-4ac3-a947-2a1e63df46e6',\n",
       " '3f403d75-54b1-4628-bd3b-2babee170b86',\n",
       " '92da04a1-43c5-4d10-8e14-4cc25d1785df',\n",
       " '1be8cffe-95a5-4baa-988c-5d39560e700b',\n",
       " '5ce0c879-fd7e-4a2a-8c68-e15d226e412d',\n",
       " '7212a7ac-08ee-46bb-8311-d8cb74a20145',\n",
       " '68f47f4a-3a6a-4b15-8f04-ca64cb9822a1',\n",
       " 'ea70942c-70b7-459f-abc9-47fd10948aed',\n",
       " '05514dd0-8bd8-42c6-911f-fdb40045223e',\n",
       " '2963d059-645e-44a3-8575-523790cc2344',\n",
       " '79e2c46c-6982-4ddc-9f77-f7cb17295182',\n",
       " '55111289-6502-413d-b102-6a8305ad7d27',\n",
       " '920b9622-0db2-49d6-b1d5-ad069710010d',\n",
       " '8e9f52eb-479c-4f57-867c-d19711a841a7',\n",
       " 'f59b3ea0-84c5-40f8-9f77-5bf3abed64e8',\n",
       " 'eb529978-4692-40a2-b7c2-584c3765c396',\n",
       " '01096897-ace9-491b-a423-726cbc1dc9f2',\n",
       " '13e929a2-2163-4d6b-a164-3195c0655ff0',\n",
       " 'cd4f130a-d077-44bd-8235-32827da98145']"
      ]
     },
     "execution_count": 44,
     "metadata": {},
     "output_type": "execute_result"
    }
   ],
   "source": [
    "FAISS_store.add_documents(final_documents)"
   ]
  },
  {
   "cell_type": "code",
   "execution_count": 46,
   "id": "12183dc5",
   "metadata": {},
   "outputs": [
    {
     "data": {
      "text/plain": [
       "[Document(id='0b53c416-bde5-44f5-9bec-221b1b359b06', metadata={'producer': 'Canva', 'creator': 'Canva', 'creationdate': '2025-04-03T18:36:52+00:00', 'title': 'AgenticAI-v2.0', 'moddate': '2025-04-03T18:36:40+00:00', 'keywords': 'DAGjmPTBGs4,BAEmsmap8Lg,0', 'author': 'monal singh', 'source': '/Users/amarmandal/Documents/coding/GenAI_Course/data/AgenticAI-v2.0.pdf', 'total_pages': 24, 'page': 1, 'page_label': '2'}, page_content='This course is designed for AI developers, machine learning engineers, data scientists, and\\nsoftware engineers looking to build expertise in agentic AI, multi-agent systems, and AI-powered\\nautomation. Whether you are new to AI agents or have experience in NLP and GenAI, this course\\nwill equip you with the knowledge and hands-on skills required to develop, deploy, and manage AI\\nagents at scale. By the end of the course, you will have a strong foundation in agentic AI'),\n",
       " Document(id='e83a9d70-0a86-407a-a03b-e41239aa6de6', metadata={'producer': 'Canva', 'creator': 'Canva', 'creationdate': '2025-04-03T18:36:52+00:00', 'title': 'AgenticAI-v2.0', 'moddate': '2025-04-03T18:36:40+00:00', 'keywords': 'DAGjmPTBGs4,BAEmsmap8Lg,0', 'author': 'monal singh', 'source': '/Users/amarmandal/Documents/coding/GenAI_Course/data/AgenticAI-v2.0.pdf', 'total_pages': 24, 'page': 2, 'page_label': '3'}, page_content='Course Information\\nA foundational understanding of Python, NLP applications, and Generative AI applications is\\nrecommended for this course. You should be comfortable working with Python and have\\nexperience building NLP and GenAI applications. While the course will guide you through\\nadvanced concepts, prior exposure to these topics will help you grasp the material more\\neffectively and accelerate your learning.\\nEstimated Time\\n4 months 6hrs/week*\\nRequired Skill Level\\nIntermediate'),\n",
       " Document(id='f7e1bfe4-1765-4100-b79f-681913f4ee4e', metadata={'producer': 'Canva', 'creator': 'Canva', 'creationdate': '2025-04-03T18:36:52+00:00', 'title': 'AgenticAI-v2.0', 'moddate': '2025-04-03T18:36:40+00:00', 'keywords': 'DAGjmPTBGs4,BAEmsmap8Lg,0', 'author': 'monal singh', 'source': '/Users/amarmandal/Documents/coding/GenAI_Course/data/AgenticAI-v2.0.pdf', 'total_pages': 24, 'page': 2, 'page_label': '3'}, page_content='Required Skill Level\\nIntermediate\\nThe course is designed to be completed over a duration of approximately 4 months, covering a\\nstructured progression from fundamental concepts to advanced agentic AI applications. The\\ncurriculum includes theoretical foundations, hands-on coding exercises, real-world projects, and\\ndeployment strategies, ensuring a comprehensive learning experience.\\nPrerequisites\\nAgentic And GenAI 2.0                                              Page  3')]"
      ]
     },
     "execution_count": 46,
     "metadata": {},
     "output_type": "execute_result"
    }
   ],
   "source": [
    "retriever = FAISS_store.as_retriever(search_kwargs={\"k\": 3})\n",
    "retriever.invoke(\"What are we going to learn in this course?\")"
   ]
  },
  {
   "cell_type": "code",
   "execution_count": null,
   "id": "f3f694b7",
   "metadata": {},
   "outputs": [],
   "source": []
  }
 ],
 "metadata": {
  "kernelspec": {
   "display_name": "venv",
   "language": "python",
   "name": "python3"
  },
  "language_info": {
   "codemirror_mode": {
    "name": "ipython",
    "version": 3
   },
   "file_extension": ".py",
   "mimetype": "text/x-python",
   "name": "python",
   "nbconvert_exporter": "python",
   "pygments_lexer": "ipython3",
   "version": "3.10.9"
  }
 },
 "nbformat": 4,
 "nbformat_minor": 5
}
