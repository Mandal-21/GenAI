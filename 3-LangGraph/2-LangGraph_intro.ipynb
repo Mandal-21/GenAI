{
 "cells": [
  {
   "cell_type": "code",
   "execution_count": 1,
   "id": "56c341d6",
   "metadata": {},
   "outputs": [],
   "source": [
    "def func1(inp1):\n",
    "    return inp1 + \" func1\"\n",
    "\n",
    "def func2(inp2):\n",
    "    return inp2 + \" func2\"\n",
    "\n",
    "def func3(inp3):\n",
    "    return inp3 + \" func3\""
   ]
  },
  {
   "cell_type": "code",
   "execution_count": 2,
   "id": "a820bf0c",
   "metadata": {},
   "outputs": [
    {
     "data": {
      "text/plain": [
       "'input1 func1'"
      ]
     },
     "execution_count": 2,
     "metadata": {},
     "output_type": "execute_result"
    }
   ],
   "source": [
    "func1(\"input1\")"
   ]
  },
  {
   "cell_type": "code",
   "execution_count": 15,
   "id": "6eb94925",
   "metadata": {},
   "outputs": [],
   "source": [
    "from langgraph.graph import Graph"
   ]
  },
  {
   "cell_type": "code",
   "execution_count": 16,
   "id": "54b6f8f0",
   "metadata": {},
   "outputs": [],
   "source": [
    "workflow1 = Graph()"
   ]
  },
  {
   "cell_type": "code",
   "execution_count": 17,
   "id": "f59c5023",
   "metadata": {},
   "outputs": [
    {
     "data": {
      "text/plain": [
       "<langgraph.graph.graph.Graph at 0x10b713160>"
      ]
     },
     "execution_count": 17,
     "metadata": {},
     "output_type": "execute_result"
    }
   ],
   "source": [
    "workflow1.add_node(\"func1\", func1)\n",
    "workflow1.add_node(\"func2\", func2)\n",
    "# workflow1.add_node(\"func3\", func3)"
   ]
  },
  {
   "cell_type": "code",
   "execution_count": 18,
   "id": "6860f4a9",
   "metadata": {},
   "outputs": [
    {
     "data": {
      "text/plain": [
       "<langgraph.graph.graph.Graph at 0x10b713160>"
      ]
     },
     "execution_count": 18,
     "metadata": {},
     "output_type": "execute_result"
    }
   ],
   "source": [
    "workflow1.add_edge(\"func1\", \"func2\")"
   ]
  },
  {
   "cell_type": "code",
   "execution_count": 19,
   "id": "17d1bab6",
   "metadata": {},
   "outputs": [
    {
     "data": {
      "text/plain": [
       "<langgraph.graph.graph.Graph at 0x10b713160>"
      ]
     },
     "execution_count": 19,
     "metadata": {},
     "output_type": "execute_result"
    }
   ],
   "source": [
    "workflow1.set_entry_point(\"func1\")"
   ]
  },
  {
   "cell_type": "code",
   "execution_count": 20,
   "id": "af66d666",
   "metadata": {},
   "outputs": [
    {
     "data": {
      "text/plain": [
       "<langgraph.graph.graph.Graph at 0x10b713160>"
      ]
     },
     "execution_count": 20,
     "metadata": {},
     "output_type": "execute_result"
    }
   ],
   "source": [
    "workflow1.set_finish_point(\"func2\")"
   ]
  },
  {
   "cell_type": "code",
   "execution_count": 21,
   "id": "727dd183",
   "metadata": {},
   "outputs": [],
   "source": [
    "app = workflow1.compile()"
   ]
  },
  {
   "cell_type": "code",
   "execution_count": 22,
   "id": "497a602a",
   "metadata": {},
   "outputs": [
    {
     "data": {
      "image/png": "[encoded data removed]",
      "text/plain": [
       "<IPython.core.display.Image object>"
      ]
     },
     "metadata": {},
     "output_type": "display_data"
    }
   ],
   "source": [
    "from IPython.display import display, Image\n",
    "display(Image(app.get_graph().draw_mermaid_png()))"
   ]
  },
  {
   "cell_type": "code",
   "execution_count": 23,
   "id": "b58c3e05",
   "metadata": {},
   "outputs": [
    {
     "data": {
      "text/plain": [
       "'This is Amar func1 func2'"
      ]
     },
     "execution_count": 23,
     "metadata": {},
     "output_type": "execute_result"
    }
   ],
   "source": [
    "app.invoke(\"This is Amar\")"
   ]
  },
  {
   "cell_type": "code",
   "execution_count": 24,
   "id": "e2a9468c",
   "metadata": {},
   "outputs": [
    {
     "name": "stdout",
     "output_type": "stream",
     "text": [
      "func1: This is Amar func1\n",
      "----\n",
      "func2: This is Amar func1 func2\n",
      "----\n",
      "Done\n"
     ]
    }
   ],
   "source": [
    "for output in app.stream(\"This is Amar\"):\n",
    "    for key, value in output.items():\n",
    "        print(f\"{key}: {value}\")\n",
    "        print(\"----\")\n",
    "print(\"Done\")"
   ]
  },
  {
   "cell_type": "code",
   "execution_count": 25,
   "id": "1309b157",
   "metadata": {},
   "outputs": [
    {
     "data": {
      "text/plain": [
       "'Tokens used: 40'"
      ]
     },
     "execution_count": 25,
     "metadata": {},
     "output_type": "execute_result"
    }
   ],
   "source": [
    "# Excersise: \n",
    "\n",
    "from langchain_openai import ChatOpenAI\n",
    "\n",
    "model = ChatOpenAI(model=\"gpt-4o\", temperature=0.0)\n",
    "\n",
    "def llm_func(inp):\n",
    "    response = model.invoke(f\"Process this input: {inp}\")\n",
    "    return response.content\n",
    "\n",
    "def calc_tokens(inp):\n",
    "    return f\"Tokens used: {len(inp.split())}\"\n",
    "\n",
    "workflow2 = Graph()\n",
    "\n",
    "workflow2.add_node(\"llm_func\", llm_func)\n",
    "workflow2.add_node(\"calc_tokens\", calc_tokens)\n",
    "\n",
    "workflow2.add_edge(\"llm_func\", \"calc_tokens\")\n",
    "\n",
    "workflow2.set_entry_point(\"llm_func\")\n",
    "workflow2.set_finish_point(\"calc_tokens\")\n",
    "\n",
    "app2 = workflow2.compile()\n",
    "\n",
    "app2.invoke(\"This is a test input for the LLM function.\")"
   ]
  },
  {
   "cell_type": "code",
   "execution_count": 26,
   "id": "b3b94ebe",
   "metadata": {},
   "outputs": [
    {
     "data": {
      "image/png": "[encoded data removed]",
      "text/plain": [
       "<IPython.core.display.Image object>"
      ]
     },
     "metadata": {},
     "output_type": "display_data"
    }
   ],
   "source": [
    "display(Image(app2.get_graph().draw_mermaid_png()))"
   ]
  },
  {
   "cell_type": "code",
   "execution_count": 29,
   "id": "0a82534b",
   "metadata": {},
   "outputs": [
    {
     "name": "stdout",
     "output_type": "stream",
     "text": [
      "llm_func: Cipla Limited is a prominent Indian multinational pharmaceutical company, known for its wide range of pharmaceutical products and active pharmaceutical ingredients. Here are some key details about Cipla's stock and company profile:\n",
      "\n",
      "1. **Stock Information**:\n",
      "   - **Ticker Symbol**: Cipla is listed on the Bombay Stock Exchange (BSE) and the National Stock Exchange of India (NSE) under the ticker symbol \"CIPLA\".\n",
      "   - **Market Capitalization**: Cipla is one of the largest pharmaceutical companies in India, and its market capitalization reflects its significant presence in the industry.\n",
      "   - **Stock Performance**: The stock performance of Cipla can be influenced by various factors, including company earnings, industry trends, regulatory changes, and broader market conditions.\n",
      "\n",
      "2. **Company Overview**:\n",
      "   - **Founded**: Cipla was founded in 1935 by Dr. K.A. Hamied.\n",
      "   - **Headquarters**: The company is headquartered in Mumbai, India.\n",
      "   - **Products and Services**: Cipla manufactures a wide range of pharmaceutical products, including treatments for respiratory, cardiovascular, anti-infective, and anti-cancer therapies. It is also known for its affordable generic medications.\n",
      "   - **Global Presence**: Cipla has a strong global presence, with operations in over 80 countries and manufacturing facilities in multiple locations worldwide.\n",
      "\n",
      "3. **Financial Performance**:\n",
      "   - **Revenue and Profitability**: Cipla's financial performance is typically reported on a quarterly and annual basis. Key metrics include revenue, net profit, and earnings per share (EPS).\n",
      "   - **Growth Drivers**: Factors contributing to Cipla's growth include its focus on research and development, expansion into new markets, and strategic partnerships.\n",
      "\n",
      "4. **Industry Position**:\n",
      "   - **Competitive Landscape**: Cipla competes with other major pharmaceutical companies both in India and globally. Its competitive advantages include a strong product portfolio, extensive distribution network, and commitment to innovation.\n",
      "   - **Regulatory Environment**: As a pharmaceutical company, Cipla operates in a highly regulated industry. Compliance with international quality standards and regulatory approvals is crucial for its operations.\n",
      "\n",
      "5. **Recent Developments**:\n",
      "   - Cipla often engages in strategic initiatives such as mergers and acquisitions, collaborations, and product launches to enhance its market position and product offerings.\n",
      "\n",
      "For the most current stock price and detailed financial analysis, it is advisable to consult financial news platforms, stock market websites, or Cipla's official investor relations page. Additionally, consider seeking advice from financial analysts or advisors for investment decisions.\n",
      "----\n",
      "calc_tokens: Tokens used: 362\n",
      "----\n",
      "Done with LLM workflow\n"
     ]
    }
   ],
   "source": [
    "for output in app2.stream(\"Tell me Cipla stock in detail.\"):\n",
    "    for key, value in output.items():\n",
    "        print(f\"{key}: {value}\")\n",
    "        print(\"----\")\n",
    "print(\"Done with LLM workflow\")"
   ]
  },
  {
   "cell_type": "code",
   "execution_count": null,
   "id": "55d7712e",
   "metadata": {},
   "outputs": [],
   "source": []
  }
 ],
 "metadata": {
  "kernelspec": {
   "display_name": "venv",
   "language": "python",
   "name": "python3"
  },
  "language_info": {
   "codemirror_mode": {
    "name": "ipython",
    "version": 3
   },
   "file_extension": ".py",
   "mimetype": "text/x-python",
   "name": "python",
   "nbconvert_exporter": "python",
   "pygments_lexer": "ipython3",
   "version": "3.10.9"
  }
 },
 "nbformat": 4,
 "nbformat_minor": 5
}
