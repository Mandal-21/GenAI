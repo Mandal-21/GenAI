{
 "cells": [
  {
   "cell_type": "code",
   "execution_count": 4,
   "id": "322e91f5",
   "metadata": {},
   "outputs": [
    {
     "data": {
      "text/plain": [
       "True"
      ]
     },
     "execution_count": 4,
     "metadata": {},
     "output_type": "execute_result"
    }
   ],
   "source": [
    "from langchain_groq import ChatGroq\n",
    "import os\n",
    "from dotenv import load_dotenv\n",
    "\n",
    "load_dotenv()\n"
   ]
  },
  {
   "cell_type": "code",
   "execution_count": 5,
   "id": "508cbc09",
   "metadata": {},
   "outputs": [],
   "source": [
    "llm = ChatGroq(\n",
    "    model_name=\"gemma2-9b-it\",\n",
    "    api_key=os.getenv(\"GROQ_API_KEY\"),\n",
    ")"
   ]
  },
  {
   "cell_type": "code",
   "execution_count": 7,
   "id": "d292204c",
   "metadata": {},
   "outputs": [
    {
     "data": {
      "text/plain": [
       "'The capital of France is **Paris**. 🇫🇷  \\n'"
      ]
     },
     "execution_count": 7,
     "metadata": {},
     "output_type": "execute_result"
    }
   ],
   "source": [
    "llm.invoke(\n",
    "    \"What is the capital of France?\",\n",
    ").content"
   ]
  },
  {
   "cell_type": "code",
   "execution_count": 83,
   "id": "cb1652ca",
   "metadata": {},
   "outputs": [],
   "source": [
    "import operator\n",
    "from typing import List, Dict, Any, TypedDict, Annotated, Optional, Union, Literal\n",
    "from pydantic import BaseModel, Field\n",
    "from langchain_core.prompts import PromptTemplate, ChatPromptTemplate\n",
    "from langchain_core.messages import BaseMessage, HumanMessage, AIMessage, SystemMessage\n",
    "from langchain_core.output_parsers import StrOutputParser\n",
    "from langchain_core.runnables import RunnablePassthrough\n",
    "from langgraph.graph import StateGraph, MessagesState, START, END\n",
    "from langgraph.graph.message import add_messages\n",
    "from langchain_core.tools import tool\n",
    "from langgraph.prebuilt import ToolNode"
   ]
  },
  {
   "cell_type": "code",
   "execution_count": 65,
   "id": "5fb3e2e9",
   "metadata": {},
   "outputs": [],
   "source": [
    "def call_model(state: MessagesState):\n",
    "    question = state['messages']\n",
    "    response = llm.invoke(question)\n",
    "    return {\"messages\": [response]}"
   ]
  },
  {
   "cell_type": "code",
   "execution_count": 66,
   "id": "8dddab2c",
   "metadata": {},
   "outputs": [
    {
     "data": {
      "text/plain": [
       "{'messages': [AIMessage(content='The capital of France is **Paris**. 🇫🇷  \\n', additional_kwargs={}, response_metadata={'token_usage': {'completion_tokens': 15, 'prompt_tokens': 16, 'total_tokens': 31, 'completion_time': 0.027272727, 'prompt_time': 0.001948206, 'queue_time': 0.242838204, 'total_time': 0.029220933}, 'model_name': 'gemma2-9b-it', 'system_fingerprint': 'fp_10c08bf97d', 'finish_reason': 'stop', 'logprobs': None}, id='run--0c41333f-fe6a-4aaa-b6af-9fe67e45cd04-0', usage_metadata={'input_tokens': 16, 'output_tokens': 15, 'total_tokens': 31})]}"
      ]
     },
     "execution_count": 66,
     "metadata": {},
     "output_type": "execute_result"
    }
   ],
   "source": [
    "call_model(\n",
    "    {\n",
    "        \"messages\": [\n",
    "            \"What is the capital of France?\"\n",
    "        ]\n",
    "    }\n",
    ")"
   ]
  },
  {
   "cell_type": "code",
   "execution_count": 67,
   "id": "e1151f8e",
   "metadata": {},
   "outputs": [
    {
     "data": {
      "image/png": "[encoded data removed]",
      "text/plain": [
       "<IPython.core.display.Image object>"
      ]
     },
     "metadata": {},
     "output_type": "display_data"
    }
   ],
   "source": [
    "workflow = StateGraph(MessagesState)\n",
    "\n",
    "workflow.add_node(\"mybot\", call_model)\n",
    "\n",
    "workflow.add_edge(START, \"mybot\")\n",
    "workflow.add_edge(\"mybot\", END)\n",
    "\n",
    "app = workflow.compile()\n",
    "\n",
    "from IPython.display import display, Image\n",
    "display(Image(app.get_graph().draw_mermaid_png()))"
   ]
  },
  {
   "cell_type": "code",
   "execution_count": 68,
   "id": "f08a9ad0",
   "metadata": {},
   "outputs": [
    {
     "data": {
      "text/plain": [
       "{'messages': [HumanMessage(content='What is the capital of France?', additional_kwargs={}, response_metadata={}, id='23c1c43f-bcc7-49d4-91f1-baec17de181c'),\n",
       "  AIMessage(content='The capital of France is **Paris**. 🗼 🇫🇷  \\n', additional_kwargs={}, response_metadata={'token_usage': {'completion_tokens': 17, 'prompt_tokens': 16, 'total_tokens': 33, 'completion_time': 0.030909091, 'prompt_time': 0.001906427, 'queue_time': 0.24918070200000003, 'total_time': 0.032815518}, 'model_name': 'gemma2-9b-it', 'system_fingerprint': 'fp_10c08bf97d', 'finish_reason': 'stop', 'logprobs': None}, id='run--caddc28d-ab23-432b-a6be-641a8794f71f-0', usage_metadata={'input_tokens': 16, 'output_tokens': 17, 'total_tokens': 33})]}"
      ]
     },
     "execution_count": 68,
     "metadata": {},
     "output_type": "execute_result"
    }
   ],
   "source": [
    "app.invoke(\n",
    "    {\n",
    "        \"messages\": [\n",
    "            \"What is the capital of France?\"\n",
    "        ]\n",
    "    }\n",
    ")"
   ]
  },
  {
   "cell_type": "markdown",
   "id": "161e7b53",
   "metadata": {},
   "source": [
    "### Tools"
   ]
  },
  {
   "cell_type": "code",
   "execution_count": 70,
   "id": "d4c45c33",
   "metadata": {},
   "outputs": [],
   "source": [
    "@tool\n",
    "def search(query: str) -> str:\n",
    "    \"\"\"This is a custom tool for searching a weather\"\"\"\n",
    "    if \"delhi\" in query.lower():\n",
    "        return \"the temperature in Delhi is 30 degrees Celsius\"\n",
    "    return \"The temperature is 25 degrees Celsius in the city you asked about.\""
   ]
  },
  {
   "cell_type": "code",
   "execution_count": 71,
   "id": "9a16f2db",
   "metadata": {},
   "outputs": [
    {
     "data": {
      "text/plain": [
       "'the temperature in Delhi is 30 degrees Celsius'"
      ]
     },
     "execution_count": 71,
     "metadata": {},
     "output_type": "execute_result"
    }
   ],
   "source": [
    "search.invoke(\"What is the weather in Delhi?\")"
   ]
  },
  {
   "cell_type": "code",
   "execution_count": 72,
   "id": "d353e6b5",
   "metadata": {},
   "outputs": [
    {
     "data": {
      "text/plain": [
       "'The temperature is 25 degrees Celsius in the city you asked about.'"
      ]
     },
     "execution_count": 72,
     "metadata": {},
     "output_type": "execute_result"
    }
   ],
   "source": [
    "search.invoke(\"What is the weather in Mumbai?\")"
   ]
  },
  {
   "cell_type": "markdown",
   "id": "e488a495",
   "metadata": {},
   "source": [
    "#### Binding tools"
   ]
  },
  {
   "cell_type": "code",
   "execution_count": 84,
   "id": "c971ed06",
   "metadata": {},
   "outputs": [],
   "source": [
    "tools=[search]"
   ]
  },
  {
   "cell_type": "code",
   "execution_count": 90,
   "id": "1751af90",
   "metadata": {},
   "outputs": [],
   "source": [
    "tool_node = ToolNode(tools)"
   ]
  },
  {
   "cell_type": "code",
   "execution_count": 92,
   "id": "0f78bd69",
   "metadata": {},
   "outputs": [
    {
     "data": {
      "text/plain": [
       "tools(tags=None, recurse=True, explode_args=False, func_accepts_config=True, func_accepts={'store': ('__pregel_store', None)}, tools_by_name={'search': StructuredTool(name='search', description='This is a custom tool for searching a weather', args_schema=<class 'langchain_core.utils.pydantic.search'>, func=<function search at 0x12cf07400>)}, tool_to_state_args={'search': {}}, tool_to_store_arg={'search': None}, handle_tool_errors=True, messages_key='messages')"
      ]
     },
     "execution_count": 92,
     "metadata": {},
     "output_type": "execute_result"
    }
   ],
   "source": [
    "tool_node"
   ]
  },
  {
   "cell_type": "code",
   "execution_count": 91,
   "id": "ae10b58a",
   "metadata": {},
   "outputs": [
    {
     "data": {
      "text/plain": [
       "StructuredTool(name='search', description='This is a custom tool for searching a weather', args_schema=<class 'langchain_core.utils.pydantic.search'>, func=<function search at 0x12cf07400>)"
      ]
     },
     "execution_count": 91,
     "metadata": {},
     "output_type": "execute_result"
    }
   ],
   "source": [
    "search"
   ]
  },
  {
   "cell_type": "code",
   "execution_count": 86,
   "id": "9ecba6b6",
   "metadata": {},
   "outputs": [],
   "source": [
    "llm_with_tools = llm.bind_tools(tools)\n"
   ]
  },
  {
   "cell_type": "code",
   "execution_count": 87,
   "id": "954a9045",
   "metadata": {},
   "outputs": [],
   "source": [
    "response = llm_with_tools.invoke(\n",
    "    \"What is the weather in Delhi?\"\n",
    ")"
   ]
  },
  {
   "cell_type": "code",
   "execution_count": 88,
   "id": "ec258ec0",
   "metadata": {},
   "outputs": [
    {
     "data": {
      "text/plain": [
       "[{'name': 'search',\n",
       "  'args': {'query': 'weather in Delhi'},\n",
       "  'id': 'v9txqfp61',\n",
       "  'type': 'tool_call'}]"
      ]
     },
     "execution_count": 88,
     "metadata": {},
     "output_type": "execute_result"
    }
   ],
   "source": [
    "response.tool_calls"
   ]
  },
  {
   "cell_type": "code",
   "execution_count": 79,
   "id": "88df537c",
   "metadata": {},
   "outputs": [],
   "source": [
    "def call_model_with_tools(state: MessagesState):\n",
    "    question = state['messages']\n",
    "    response = llm_with_tools.invoke(question)\n",
    "    return {\"messages\": [response]}"
   ]
  },
  {
   "cell_type": "code",
   "execution_count": 80,
   "id": "cf2cf2e7",
   "metadata": {},
   "outputs": [
    {
     "data": {
      "text/plain": [
       "{'messages': [AIMessage(content='', additional_kwargs={'tool_calls': [{'id': '5zakpj7fs', 'function': {'arguments': '{\"query\":\"weather in Delhi\"}', 'name': 'search'}, 'type': 'function'}]}, response_metadata={'token_usage': {'completion_tokens': 82, 'prompt_tokens': 946, 'total_tokens': 1028, 'completion_time': 0.149090909, 'prompt_time': 0.033180804, 'queue_time': 0.25176967499999997, 'total_time': 0.182271713}, 'model_name': 'gemma2-9b-it', 'system_fingerprint': 'fp_10c08bf97d', 'finish_reason': 'tool_calls', 'logprobs': None}, id='run--eee477a1-b326-4a90-8f67-7c3db99df7e6-0', tool_calls=[{'name': 'search', 'args': {'query': 'weather in Delhi'}, 'id': '5zakpj7fs', 'type': 'tool_call'}], usage_metadata={'input_tokens': 946, 'output_tokens': 82, 'total_tokens': 1028})]}"
      ]
     },
     "execution_count": 80,
     "metadata": {},
     "output_type": "execute_result"
    }
   ],
   "source": [
    "call_model_with_tools(\n",
    "    {\n",
    "        \"messages\": [\n",
    "            \"What is the weather in Delhi?\"\n",
    "        ]\n",
    "    }\n",
    ")"
   ]
  },
  {
   "cell_type": "code",
   "execution_count": 103,
   "id": "6000111e",
   "metadata": {},
   "outputs": [],
   "source": [
    "def router_function(state: MessagesState):\n",
    "    lst_msg = state['messages'][-1]\n",
    "    if lst_msg.tool_calls:\n",
    "        return \"tools\"\n",
    "    return END"
   ]
  },
  {
   "cell_type": "code",
   "execution_count": 104,
   "id": "5bc826e4",
   "metadata": {},
   "outputs": [
    {
     "data": {
      "image/png": "[encoded data removed]",
      "text/plain": [
       "<IPython.core.display.Image object>"
      ]
     },
     "metadata": {},
     "output_type": "display_data"
    }
   ],
   "source": [
    "workflow_with_tools = StateGraph(MessagesState)\n",
    "\n",
    "workflow_with_tools.add_node(\"llm_w_tool\", call_model_with_tools)\n",
    "workflow_with_tools.add_node(\"mytools\",  tool_node)\n",
    "\n",
    "workflow_with_tools.add_edge(START, \"llm_w_tool\")\n",
    "workflow_with_tools.add_conditional_edges(\n",
    "    \"llm_w_tool\",\n",
    "    router_function,\n",
    "    {\n",
    "        \"tools\": \"mytools\",\n",
    "        END: END\n",
    "    }\n",
    ")\n",
    "\n",
    "app_with_tools = workflow_with_tools.compile()\n",
    "\n",
    "display(Image(app_with_tools.get_graph().draw_mermaid_png()))"
   ]
  },
  {
   "cell_type": "code",
   "execution_count": 105,
   "id": "5fd93808",
   "metadata": {},
   "outputs": [
    {
     "data": {
      "text/plain": [
       "{'messages': [HumanMessage(content='What is the weather in Delhi?', additional_kwargs={}, response_metadata={}, id='b82b8b7d-27df-4480-9865-75cdbf1bc806'),\n",
       "  AIMessage(content='', additional_kwargs={'tool_calls': [{'id': '213bfjegd', 'function': {'arguments': '{\"query\":\"weather in Delhi\"}', 'name': 'search'}, 'type': 'function'}]}, response_metadata={'token_usage': {'completion_tokens': 82, 'prompt_tokens': 946, 'total_tokens': 1028, 'completion_time': 0.149090909, 'prompt_time': 0.044498297, 'queue_time': 0.252341378, 'total_time': 0.193589206}, 'model_name': 'gemma2-9b-it', 'system_fingerprint': 'fp_10c08bf97d', 'finish_reason': 'tool_calls', 'logprobs': None}, id='run--c12a1d84-df33-4542-afcb-00dd9ad500a0-0', tool_calls=[{'name': 'search', 'args': {'query': 'weather in Delhi'}, 'id': '213bfjegd', 'type': 'tool_call'}], usage_metadata={'input_tokens': 946, 'output_tokens': 82, 'total_tokens': 1028}),\n",
       "  ToolMessage(content='the temperature in Delhi is 30 degrees Celsius', name='search', id='e16925b9-02ce-499e-88ad-f0e90f22b0dc', tool_call_id='213bfjegd')]}"
      ]
     },
     "execution_count": 105,
     "metadata": {},
     "output_type": "execute_result"
    }
   ],
   "source": [
    "app_with_tools.invoke(\n",
    "    {\n",
    "        \"messages\": [\n",
    "            \"What is the weather in Delhi?\"\n",
    "        ]\n",
    "    }\n",
    ")"
   ]
  },
  {
   "cell_type": "code",
   "execution_count": 106,
   "id": "8f7c413e",
   "metadata": {},
   "outputs": [
    {
     "data": {
      "text/plain": [
       "{'messages': [HumanMessage(content='What is the weather in Mumbai?', additional_kwargs={}, response_metadata={}, id='ffe1fc04-8c4e-41ed-88da-fb8bacf5aa71'),\n",
       "  AIMessage(content='', additional_kwargs={'tool_calls': [{'id': 'k9m738396', 'function': {'arguments': '{\"query\":\"weather in Mumbai\"}', 'name': 'search'}, 'type': 'function'}]}, response_metadata={'token_usage': {'completion_tokens': 82, 'prompt_tokens': 946, 'total_tokens': 1028, 'completion_time': 0.149090909, 'prompt_time': 0.033137181, 'queue_time': 0.24295824099999996, 'total_time': 0.18222809}, 'model_name': 'gemma2-9b-it', 'system_fingerprint': 'fp_10c08bf97d', 'finish_reason': 'tool_calls', 'logprobs': None}, id='run--d537d04b-5294-4776-861e-7c0fcb101246-0', tool_calls=[{'name': 'search', 'args': {'query': 'weather in Mumbai'}, 'id': 'k9m738396', 'type': 'tool_call'}], usage_metadata={'input_tokens': 946, 'output_tokens': 82, 'total_tokens': 1028}),\n",
       "  ToolMessage(content='The temperature is 25 degrees Celsius in the city you asked about.', name='search', id='f8b1c486-bb44-458b-ab55-44d7f28e5bb0', tool_call_id='k9m738396')]}"
      ]
     },
     "execution_count": 106,
     "metadata": {},
     "output_type": "execute_result"
    }
   ],
   "source": [
    "app_with_tools.invoke(\n",
    "    {\n",
    "        \"messages\": [\n",
    "            \"What is the weather in Mumbai?\"\n",
    "        ]\n",
    "    }\n",
    ")"
   ]
  },
  {
   "cell_type": "code",
   "execution_count": 107,
   "id": "9bae93ca",
   "metadata": {},
   "outputs": [
    {
     "data": {
      "text/plain": [
       "{'messages': [HumanMessage(content='What is capital of France?', additional_kwargs={}, response_metadata={}, id='d4704d1b-7508-489e-8def-32d116853694'),\n",
       "  AIMessage(content='', additional_kwargs={'tool_calls': [{'id': 'd1f88sbpj', 'function': {'arguments': '{\"query\":\"capital of France\"}', 'name': 'search'}, 'type': 'function'}]}, response_metadata={'token_usage': {'completion_tokens': 80, 'prompt_tokens': 945, 'total_tokens': 1025, 'completion_time': 0.145454545, 'prompt_time': 0.033037242, 'queue_time': 0.24536936700000003, 'total_time': 0.178491787}, 'model_name': 'gemma2-9b-it', 'system_fingerprint': 'fp_10c08bf97d', 'finish_reason': 'tool_calls', 'logprobs': None}, id='run--6ca38817-a830-4d89-abb0-05a5cb2d8470-0', tool_calls=[{'name': 'search', 'args': {'query': 'capital of France'}, 'id': 'd1f88sbpj', 'type': 'tool_call'}], usage_metadata={'input_tokens': 945, 'output_tokens': 80, 'total_tokens': 1025}),\n",
       "  ToolMessage(content='The temperature is 25 degrees Celsius in the city you asked about.', name='search', id='bb7d7b06-0f43-4592-b4d2-e050eb62bb01', tool_call_id='d1f88sbpj')]}"
      ]
     },
     "execution_count": 107,
     "metadata": {},
     "output_type": "execute_result"
    }
   ],
   "source": [
    "app_with_tools.invoke(\n",
    "    {\n",
    "        \"messages\": [\n",
    "            \"What is capital of France?\"\n",
    "        ]\n",
    "    }\n",
    ")"
   ]
  },
  {
   "cell_type": "code",
   "execution_count": null,
   "id": "031aa0ba",
   "metadata": {},
   "outputs": [],
   "source": []
  }
 ],
 "metadata": {
  "kernelspec": {
   "display_name": "venv",
   "language": "python",
   "name": "python3"
  },
  "language_info": {
   "codemirror_mode": {
    "name": "ipython",
    "version": 3
   },
   "file_extension": ".py",
   "mimetype": "text/x-python",
   "name": "python",
   "nbconvert_exporter": "python",
   "pygments_lexer": "ipython3",
   "version": "3.10.9"
  }
 },
 "nbformat": 4,
 "nbformat_minor": 5
}
