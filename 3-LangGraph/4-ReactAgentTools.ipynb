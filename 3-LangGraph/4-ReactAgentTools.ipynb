{
 "cells": [
  {
   "cell_type": "code",
   "execution_count": 1,
   "id": "322e91f5",
   "metadata": {},
   "outputs": [
    {
     "data": {
      "text/plain": [
       "True"
      ]
     },
     "execution_count": 1,
     "metadata": {},
     "output_type": "execute_result"
    }
   ],
   "source": [
    "from langchain_groq import ChatGroq\n",
    "import os\n",
    "from dotenv import load_dotenv\n",
    "\n",
    "load_dotenv()\n"
   ]
  },
  {
   "cell_type": "code",
   "execution_count": 2,
   "id": "508cbc09",
   "metadata": {},
   "outputs": [],
   "source": [
    "llm = ChatGroq(\n",
    "    model_name=\"gemma2-9b-it\",\n",
    "    api_key=os.getenv(\"GROQ_API_KEY\"),\n",
    ")"
   ]
  },
  {
   "cell_type": "code",
   "execution_count": 3,
   "id": "d292204c",
   "metadata": {},
   "outputs": [
    {
     "data": {
      "text/plain": [
       "'The capital of France is **Paris**. \\n'"
      ]
     },
     "execution_count": 3,
     "metadata": {},
     "output_type": "execute_result"
    }
   ],
   "source": [
    "llm.invoke(\n",
    "    \"What is the capital of France?\",\n",
    ").content"
   ]
  },
  {
   "cell_type": "code",
   "execution_count": 4,
   "id": "cb1652ca",
   "metadata": {},
   "outputs": [],
   "source": [
    "import operator\n",
    "from typing import List, Dict, Any, TypedDict, Annotated, Optional, Union, Literal\n",
    "from pydantic import BaseModel, Field\n",
    "from langchain_core.prompts import PromptTemplate, ChatPromptTemplate\n",
    "from langchain_core.messages import BaseMessage, HumanMessage, AIMessage, SystemMessage\n",
    "from langchain_core.output_parsers import StrOutputParser\n",
    "from langchain_core.runnables import RunnablePassthrough\n",
    "from langgraph.graph import StateGraph, MessagesState, START, END\n",
    "from langgraph.graph.message import add_messages\n",
    "from langchain_core.tools import tool\n",
    "from langgraph.prebuilt import ToolNode"
   ]
  },
  {
   "cell_type": "code",
   "execution_count": 5,
   "id": "5fb3e2e9",
   "metadata": {},
   "outputs": [],
   "source": [
    "def call_model(state: MessagesState):\n",
    "    question = state['messages']\n",
    "    response = llm.invoke(question)\n",
    "    return {\"messages\": [response]}"
   ]
  },
  {
   "cell_type": "code",
   "execution_count": 6,
   "id": "8dddab2c",
   "metadata": {},
   "outputs": [
    {
     "data": {
      "text/plain": [
       "{'messages': [AIMessage(content='The capital of France is **Paris**. 🇫🇷  \\n', additional_kwargs={}, response_metadata={'token_usage': {'completion_tokens': 15, 'prompt_tokens': 16, 'total_tokens': 31, 'completion_time': 0.027272727, 'prompt_time': 0.001865435, 'queue_time': 0.243490095, 'total_time': 0.029138162}, 'model_name': 'gemma2-9b-it', 'system_fingerprint': 'fp_10c08bf97d', 'finish_reason': 'stop', 'logprobs': None}, id='run--265a0865-c2d8-4b1a-b184-c4f7e3059c16-0', usage_metadata={'input_tokens': 16, 'output_tokens': 15, 'total_tokens': 31})]}"
      ]
     },
     "execution_count": 6,
     "metadata": {},
     "output_type": "execute_result"
    }
   ],
   "source": [
    "call_model(\n",
    "    {\n",
    "        \"messages\": [\n",
    "            \"What is the capital of France?\"\n",
    "        ]\n",
    "    }\n",
    ")"
   ]
  },
  {
   "cell_type": "code",
   "execution_count": 7,
   "id": "e1151f8e",
   "metadata": {},
   "outputs": [
    {
     "data": {
      "image/png": "[encoded data removed]",
      "text/plain": [
       "<IPython.core.display.Image object>"
      ]
     },
     "metadata": {},
     "output_type": "display_data"
    }
   ],
   "source": [
    "workflow = StateGraph(MessagesState)\n",
    "\n",
    "workflow.add_node(\"mybot\", call_model)\n",
    "\n",
    "workflow.add_edge(START, \"mybot\")\n",
    "workflow.add_edge(\"mybot\", END)\n",
    "\n",
    "app = workflow.compile()\n",
    "\n",
    "from IPython.display import display, Image\n",
    "display(Image(app.get_graph().draw_mermaid_png()))"
   ]
  },
  {
   "cell_type": "code",
   "execution_count": 8,
   "id": "f08a9ad0",
   "metadata": {},
   "outputs": [
    {
     "data": {
      "text/plain": [
       "{'messages': [HumanMessage(content='What is the capital of France?', additional_kwargs={}, response_metadata={}, id='a18532f3-f683-4478-bb15-d9093d7bb871'),\n",
       "  AIMessage(content='The capital of France is **Paris**. 😊 \\n', additional_kwargs={}, response_metadata={'token_usage': {'completion_tokens': 13, 'prompt_tokens': 16, 'total_tokens': 29, 'completion_time': 0.023636364, 'prompt_time': 0.001868766, 'queue_time': 0.27430628399999996, 'total_time': 0.02550513}, 'model_name': 'gemma2-9b-it', 'system_fingerprint': 'fp_10c08bf97d', 'finish_reason': 'stop', 'logprobs': None}, id='run--e214968d-71dc-46d3-8e3d-a2a62e887068-0', usage_metadata={'input_tokens': 16, 'output_tokens': 13, 'total_tokens': 29})]}"
      ]
     },
     "execution_count": 8,
     "metadata": {},
     "output_type": "execute_result"
    }
   ],
   "source": [
    "app.invoke(\n",
    "    {\n",
    "        \"messages\": [\n",
    "            \"What is the capital of France?\"\n",
    "        ]\n",
    "    }\n",
    ")"
   ]
  },
  {
   "cell_type": "markdown",
   "id": "161e7b53",
   "metadata": {},
   "source": [
    "### Tools"
   ]
  },
  {
   "cell_type": "code",
   "execution_count": 9,
   "id": "d4c45c33",
   "metadata": {},
   "outputs": [],
   "source": [
    "@tool\n",
    "def search(query: str) -> str:\n",
    "    \"\"\"This is a custom tool for searching a weather\"\"\"\n",
    "    if \"delhi\" in query.lower():\n",
    "        return \"the temperature in Delhi is 30 degrees Celsius\"\n",
    "    return \"The temperature is 25 degrees Celsius in the city you asked about.\""
   ]
  },
  {
   "cell_type": "code",
   "execution_count": 10,
   "id": "9a16f2db",
   "metadata": {},
   "outputs": [
    {
     "data": {
      "text/plain": [
       "'the temperature in Delhi is 30 degrees Celsius'"
      ]
     },
     "execution_count": 10,
     "metadata": {},
     "output_type": "execute_result"
    }
   ],
   "source": [
    "search.invoke(\"What is the weather in Delhi?\")"
   ]
  },
  {
   "cell_type": "code",
   "execution_count": 11,
   "id": "d353e6b5",
   "metadata": {},
   "outputs": [
    {
     "data": {
      "text/plain": [
       "'The temperature is 25 degrees Celsius in the city you asked about.'"
      ]
     },
     "execution_count": 11,
     "metadata": {},
     "output_type": "execute_result"
    }
   ],
   "source": [
    "search.invoke(\"What is the weather in Mumbai?\")"
   ]
  },
  {
   "cell_type": "markdown",
   "id": "e488a495",
   "metadata": {},
   "source": [
    "#### Binding tools"
   ]
  },
  {
   "cell_type": "code",
   "execution_count": 12,
   "id": "c971ed06",
   "metadata": {},
   "outputs": [],
   "source": [
    "tools=[search]"
   ]
  },
  {
   "cell_type": "code",
   "execution_count": 13,
   "id": "1751af90",
   "metadata": {},
   "outputs": [],
   "source": [
    "tool_node = ToolNode(tools)"
   ]
  },
  {
   "cell_type": "code",
   "execution_count": 14,
   "id": "0f78bd69",
   "metadata": {},
   "outputs": [
    {
     "data": {
      "text/plain": [
       "tools(tags=None, recurse=True, explode_args=False, func_accepts_config=True, func_accepts={'store': ('__pregel_store', None)}, tools_by_name={'search': StructuredTool(name='search', description='This is a custom tool for searching a weather', args_schema=<class 'langchain_core.utils.pydantic.search'>, func=<function search at 0x10fe74700>)}, tool_to_state_args={'search': {}}, tool_to_store_arg={'search': None}, handle_tool_errors=True, messages_key='messages')"
      ]
     },
     "execution_count": 14,
     "metadata": {},
     "output_type": "execute_result"
    }
   ],
   "source": [
    "tool_node"
   ]
  },
  {
   "cell_type": "code",
   "execution_count": 15,
   "id": "ae10b58a",
   "metadata": {},
   "outputs": [
    {
     "data": {
      "text/plain": [
       "StructuredTool(name='search', description='This is a custom tool for searching a weather', args_schema=<class 'langchain_core.utils.pydantic.search'>, func=<function search at 0x10fe74700>)"
      ]
     },
     "execution_count": 15,
     "metadata": {},
     "output_type": "execute_result"
    }
   ],
   "source": [
    "search"
   ]
  },
  {
   "cell_type": "code",
   "execution_count": 16,
   "id": "9ecba6b6",
   "metadata": {},
   "outputs": [],
   "source": [
    "llm_with_tools = llm.bind_tools(tools)\n"
   ]
  },
  {
   "cell_type": "code",
   "execution_count": 17,
   "id": "954a9045",
   "metadata": {},
   "outputs": [],
   "source": [
    "response = llm_with_tools.invoke(\n",
    "    \"What is the weather in Delhi?\"\n",
    ")"
   ]
  },
  {
   "cell_type": "code",
   "execution_count": 18,
   "id": "ec258ec0",
   "metadata": {},
   "outputs": [
    {
     "data": {
      "text/plain": [
       "[{'name': 'search',\n",
       "  'args': {'query': 'weather in Delhi'},\n",
       "  'id': '1h1dcc7s7',\n",
       "  'type': 'tool_call'}]"
      ]
     },
     "execution_count": 18,
     "metadata": {},
     "output_type": "execute_result"
    }
   ],
   "source": [
    "response.tool_calls"
   ]
  },
  {
   "cell_type": "code",
   "execution_count": 19,
   "id": "88df537c",
   "metadata": {},
   "outputs": [],
   "source": [
    "def call_model_with_tools(state: MessagesState):\n",
    "    question = state['messages']\n",
    "    response = llm_with_tools.invoke(question)\n",
    "    return {\"messages\": [response]}"
   ]
  },
  {
   "cell_type": "code",
   "execution_count": 20,
   "id": "cf2cf2e7",
   "metadata": {},
   "outputs": [
    {
     "data": {
      "text/plain": [
       "{'messages': [AIMessage(content='', additional_kwargs={'tool_calls': [{'id': 'jk70ftdz2', 'function': {'arguments': '{\"query\":\"weather in Delhi\"}', 'name': 'search'}, 'type': 'function'}]}, response_metadata={'token_usage': {'completion_tokens': 80, 'prompt_tokens': 946, 'total_tokens': 1026, 'completion_time': 0.145454545, 'prompt_time': 0.053453358, 'queue_time': 0.24530833200000002, 'total_time': 0.198907903}, 'model_name': 'gemma2-9b-it', 'system_fingerprint': 'fp_10c08bf97d', 'finish_reason': 'tool_calls', 'logprobs': None}, id='run--d3ac30f5-4cd8-492d-ae4e-a9fe01a641c3-0', tool_calls=[{'name': 'search', 'args': {'query': 'weather in Delhi'}, 'id': 'jk70ftdz2', 'type': 'tool_call'}], usage_metadata={'input_tokens': 946, 'output_tokens': 80, 'total_tokens': 1026})]}"
      ]
     },
     "execution_count": 20,
     "metadata": {},
     "output_type": "execute_result"
    }
   ],
   "source": [
    "call_model_with_tools(\n",
    "    {\n",
    "        \"messages\": [\n",
    "            \"What is the weather in Delhi?\"\n",
    "        ]\n",
    "    }\n",
    ")"
   ]
  },
  {
   "cell_type": "code",
   "execution_count": 21,
   "id": "6000111e",
   "metadata": {},
   "outputs": [],
   "source": [
    "def router_function(state: MessagesState):\n",
    "    lst_msg = state['messages'][-1]\n",
    "    if lst_msg.tool_calls:\n",
    "        return \"tools\"\n",
    "    return END"
   ]
  },
  {
   "cell_type": "code",
   "execution_count": 22,
   "id": "5bc826e4",
   "metadata": {},
   "outputs": [
    {
     "data": {
      "image/png": "[encoded data removed]",
      "text/plain": [
       "<IPython.core.display.Image object>"
      ]
     },
     "metadata": {},
     "output_type": "display_data"
    }
   ],
   "source": [
    "workflow_with_tools = StateGraph(MessagesState)\n",
    "\n",
    "workflow_with_tools.add_node(\"llm_w_tool\", call_model_with_tools)\n",
    "workflow_with_tools.add_node(\"mytools\",  tool_node)\n",
    "\n",
    "workflow_with_tools.add_edge(START, \"llm_w_tool\")\n",
    "workflow_with_tools.add_conditional_edges(\n",
    "    \"llm_w_tool\",\n",
    "    router_function,\n",
    "    {\n",
    "        \"tools\": \"mytools\",\n",
    "        END: END\n",
    "    }\n",
    ")\n",
    "\n",
    "app_with_tools = workflow_with_tools.compile()\n",
    "\n",
    "display(Image(app_with_tools.get_graph().draw_mermaid_png()))"
   ]
  },
  {
   "cell_type": "code",
   "execution_count": 23,
   "id": "5fd93808",
   "metadata": {},
   "outputs": [
    {
     "data": {
      "text/plain": [
       "{'messages': [HumanMessage(content='What is the weather in Delhi?', additional_kwargs={}, response_metadata={}, id='65c266ae-197c-40ce-9eac-8c6b8b28532f'),\n",
       "  AIMessage(content='', additional_kwargs={'tool_calls': [{'id': '6k6da3azb', 'function': {'arguments': '{\"query\":\"weather in Delhi\"}', 'name': 'search'}, 'type': 'function'}]}, response_metadata={'token_usage': {'completion_tokens': 82, 'prompt_tokens': 946, 'total_tokens': 1028, 'completion_time': 0.149090909, 'prompt_time': 0.032537069, 'queue_time': 0.24396978100000002, 'total_time': 0.181627978}, 'model_name': 'gemma2-9b-it', 'system_fingerprint': 'fp_10c08bf97d', 'finish_reason': 'tool_calls', 'logprobs': None}, id='run--9d1a0469-d82a-4d3a-ad73-8f936ef84eec-0', tool_calls=[{'name': 'search', 'args': {'query': 'weather in Delhi'}, 'id': '6k6da3azb', 'type': 'tool_call'}], usage_metadata={'input_tokens': 946, 'output_tokens': 82, 'total_tokens': 1028}),\n",
       "  ToolMessage(content='the temperature in Delhi is 30 degrees Celsius', name='search', id='dded6ffd-0955-4b0c-958f-eb79ce899c2a', tool_call_id='6k6da3azb')]}"
      ]
     },
     "execution_count": 23,
     "metadata": {},
     "output_type": "execute_result"
    }
   ],
   "source": [
    "app_with_tools.invoke(\n",
    "    {\n",
    "        \"messages\": [\n",
    "            \"What is the weather in Delhi?\"\n",
    "        ]\n",
    "    }\n",
    ")"
   ]
  },
  {
   "cell_type": "code",
   "execution_count": 24,
   "id": "8f7c413e",
   "metadata": {},
   "outputs": [
    {
     "data": {
      "text/plain": [
       "{'messages': [HumanMessage(content='What is the weather in Mumbai?', additional_kwargs={}, response_metadata={}, id='980e93c4-ad03-49d0-95f5-5dad8f178e70'),\n",
       "  AIMessage(content='', additional_kwargs={'tool_calls': [{'id': '90vw1tnzz', 'function': {'arguments': '{\"query\":\"weather in Mumbai\"}', 'name': 'search'}, 'type': 'function'}]}, response_metadata={'token_usage': {'completion_tokens': 80, 'prompt_tokens': 946, 'total_tokens': 1026, 'completion_time': 0.145454545, 'prompt_time': 0.032510749, 'queue_time': 0.25096718, 'total_time': 0.177965294}, 'model_name': 'gemma2-9b-it', 'system_fingerprint': 'fp_10c08bf97d', 'finish_reason': 'tool_calls', 'logprobs': None}, id='run--8525ff15-1103-4b21-a36d-50d8519d9acf-0', tool_calls=[{'name': 'search', 'args': {'query': 'weather in Mumbai'}, 'id': '90vw1tnzz', 'type': 'tool_call'}], usage_metadata={'input_tokens': 946, 'output_tokens': 80, 'total_tokens': 1026}),\n",
       "  ToolMessage(content='The temperature is 25 degrees Celsius in the city you asked about.', name='search', id='cc041627-d4ec-40c7-8dda-e27c01be0720', tool_call_id='90vw1tnzz')]}"
      ]
     },
     "execution_count": 24,
     "metadata": {},
     "output_type": "execute_result"
    }
   ],
   "source": [
    "app_with_tools.invoke(\n",
    "    {\n",
    "        \"messages\": [\n",
    "            \"What is the weather in Mumbai?\"\n",
    "        ]\n",
    "    }\n",
    ")"
   ]
  },
  {
   "cell_type": "code",
   "execution_count": 25,
   "id": "9bae93ca",
   "metadata": {},
   "outputs": [
    {
     "data": {
      "text/plain": [
       "{'messages': [HumanMessage(content='What is capital of France?', additional_kwargs={}, response_metadata={}, id='2dd8d9ca-4d3a-4c52-b818-e2acf9cbbc1a'),\n",
       "  AIMessage(content='', additional_kwargs={'tool_calls': [{'id': '8vw65ypeh', 'function': {'arguments': '{\"query\":\"capital of France\"}', 'name': 'search'}, 'type': 'function'}]}, response_metadata={'token_usage': {'completion_tokens': 80, 'prompt_tokens': 945, 'total_tokens': 1025, 'completion_time': 0.145454545, 'prompt_time': 0.03258311, 'queue_time': 0.24518504900000002, 'total_time': 0.178037655}, 'model_name': 'gemma2-9b-it', 'system_fingerprint': 'fp_10c08bf97d', 'finish_reason': 'tool_calls', 'logprobs': None}, id='run--300430f6-68ef-485c-8567-2e62c716c188-0', tool_calls=[{'name': 'search', 'args': {'query': 'capital of France'}, 'id': '8vw65ypeh', 'type': 'tool_call'}], usage_metadata={'input_tokens': 945, 'output_tokens': 80, 'total_tokens': 1025}),\n",
       "  ToolMessage(content='The temperature is 25 degrees Celsius in the city you asked about.', name='search', id='66aec0c8-d24e-451e-b4c4-c3a88c6359f5', tool_call_id='8vw65ypeh')]}"
      ]
     },
     "execution_count": 25,
     "metadata": {},
     "output_type": "execute_result"
    }
   ],
   "source": [
    "app_with_tools.invoke(\n",
    "    {\n",
    "        \"messages\": [\n",
    "            \"What is capital of France?\"\n",
    "        ]\n",
    "    }\n",
    ")"
   ]
  },
  {
   "cell_type": "markdown",
   "id": "4a559ad0",
   "metadata": {},
   "source": [
    "### cyclic graph"
   ]
  },
  {
   "cell_type": "code",
   "execution_count": 26,
   "id": "031aa0ba",
   "metadata": {},
   "outputs": [
    {
     "name": "stderr",
     "output_type": "stream",
     "text": [
      "Adding an edge to a graph that has already been compiled. This will not be reflected in the compiled graph.\n"
     ]
    },
    {
     "data": {
      "text/plain": [
       "<langgraph.graph.state.StateGraph at 0x10fea2230>"
      ]
     },
     "execution_count": 26,
     "metadata": {},
     "output_type": "execute_result"
    }
   ],
   "source": [
    "workflow_with_tools.add_edge(\"mytools\", \"llm_w_tool\")"
   ]
  },
  {
   "cell_type": "code",
   "execution_count": 27,
   "id": "7e428968",
   "metadata": {},
   "outputs": [],
   "source": [
    "app_with_tools_cyclic = workflow_with_tools.compile()"
   ]
  },
  {
   "cell_type": "code",
   "execution_count": 28,
   "id": "47bafb3b",
   "metadata": {},
   "outputs": [
    {
     "data": {
      "image/png": "[encoded data removed]",
      "text/plain": [
       "<IPython.core.display.Image object>"
      ]
     },
     "metadata": {},
     "output_type": "display_data"
    }
   ],
   "source": [
    "from IPython.display import display, Image\n",
    "display(Image(app_with_tools_cyclic.get_graph().draw_mermaid_png()))"
   ]
  },
  {
   "cell_type": "code",
   "execution_count": 31,
   "id": "e22fe860",
   "metadata": {},
   "outputs": [
    {
     "name": "stdout",
     "output_type": "stream",
     "text": [
      "llm_w_tool: {'messages': [AIMessage(content='', additional_kwargs={'tool_calls': [{'id': 'ec35023pg', 'function': {'arguments': '{\"query\":\"weather in Delhi\"}', 'name': 'search'}, 'type': 'function'}]}, response_metadata={'token_usage': {'completion_tokens': 82, 'prompt_tokens': 955, 'total_tokens': 1037, 'completion_time': 0.149090909, 'prompt_time': 0.040840051, 'queue_time': 0.245458069, 'total_time': 0.18993096}, 'model_name': 'gemma2-9b-it', 'system_fingerprint': 'fp_10c08bf97d', 'finish_reason': 'tool_calls', 'logprobs': None}, id='run--212a6c01-ecda-44ac-bf9c-9956b408efa1-0', tool_calls=[{'name': 'search', 'args': {'query': 'weather in Delhi'}, 'id': 'ec35023pg', 'type': 'tool_call'}], usage_metadata={'input_tokens': 955, 'output_tokens': 82, 'total_tokens': 1037})]}\n",
      "--------------------\n",
      "mytools: {'messages': [ToolMessage(content='the temperature in Delhi is 30 degrees Celsius', name='search', id='cc9693f6-f823-403a-822b-a0880f13cd83', tool_call_id='ec35023pg')]}\n",
      "--------------------\n",
      "llm_w_tool: {'messages': [AIMessage(content='', additional_kwargs={'tool_calls': [{'id': 'wfrxxs4n5', 'function': {'arguments': '{\"query\":\"good hotels in Delhi\"}', 'name': 'search'}, 'type': 'function'}]}, response_metadata={'token_usage': {'completion_tokens': 42, 'prompt_tokens': 1038, 'total_tokens': 1080, 'completion_time': 0.076363636, 'prompt_time': 0.059240276, 'queue_time': 0.244900614, 'total_time': 0.135603912}, 'model_name': 'gemma2-9b-it', 'system_fingerprint': 'fp_10c08bf97d', 'finish_reason': 'tool_calls', 'logprobs': None}, id='run--415b045d-aff7-4d52-80f5-746dea1668de-0', tool_calls=[{'name': 'search', 'args': {'query': 'good hotels in Delhi'}, 'id': 'wfrxxs4n5', 'type': 'tool_call'}], usage_metadata={'input_tokens': 1038, 'output_tokens': 42, 'total_tokens': 1080})]}\n",
      "--------------------\n",
      "mytools: {'messages': [ToolMessage(content='the temperature in Delhi is 30 degrees Celsius', name='search', id='e80bbabc-6722-409e-8a12-22b302559dcb', tool_call_id='wfrxxs4n5')]}\n",
      "--------------------\n",
      "llm_w_tool: {'messages': [AIMessage(content='', additional_kwargs={'tool_calls': [{'id': 'fa00jxzm7', 'function': {'arguments': '{\"query\":\"good hotels in Delhi\"}', 'name': 'search'}, 'type': 'function'}]}, response_metadata={'token_usage': {'completion_tokens': 68, 'prompt_tokens': 1122, 'total_tokens': 1190, 'completion_time': 0.123636364, 'prompt_time': 0.063350926, 'queue_time': 0.25177843, 'total_time': 0.18698729}, 'model_name': 'gemma2-9b-it', 'system_fingerprint': 'fp_10c08bf97d', 'finish_reason': 'tool_calls', 'logprobs': None}, id='run--df9d574e-2bd2-4c35-ad12-b662893579cd-0', tool_calls=[{'name': 'search', 'args': {'query': 'good hotels in Delhi'}, 'id': 'fa00jxzm7', 'type': 'tool_call'}], usage_metadata={'input_tokens': 1122, 'output_tokens': 68, 'total_tokens': 1190})]}\n",
      "--------------------\n",
      "mytools: {'messages': [ToolMessage(content='the temperature in Delhi is 30 degrees Celsius', name='search', id='0654a055-4bfa-435f-b2ab-d7fb346d167a', tool_call_id='fa00jxzm7')]}\n",
      "--------------------\n",
      "llm_w_tool: {'messages': [AIMessage(content='Here is a list of some good hotels in Delhi: The Leela Palace, The Imperial, The Oberoi, Taj Palace, ITC Maurya.  \\n\\n\\n\\n', additional_kwargs={}, response_metadata={'token_usage': {'completion_tokens': 34, 'prompt_tokens': 1204, 'total_tokens': 1238, 'completion_time': 0.061818182, 'prompt_time': 0.100235357, 'queue_time': 0.25026948299999996, 'total_time': 0.162053539}, 'model_name': 'gemma2-9b-it', 'system_fingerprint': 'fp_10c08bf97d', 'finish_reason': 'stop', 'logprobs': None}, id='run--13c3a02b-e35a-4547-8e1c-593d057d4278-0', usage_metadata={'input_tokens': 1204, 'output_tokens': 34, 'total_tokens': 1238})]}\n",
      "--------------------\n",
      "End of output\n"
     ]
    }
   ],
   "source": [
    "for output in app_with_tools_cyclic.stream(\n",
    "    {\n",
    "        \"messages\": [\n",
    "            \"What is the weather in Delhi? Can you tell me good hotels in Delhi?\"\n",
    "        ]\n",
    "    }\n",
    "):\n",
    "    for key, value in output.items():\n",
    "        print(f\"{key}: {value}\")\n",
    "        print(\"-\" * 20)\n",
    "        \n",
    "print(\"End of output\")"
   ]
  },
  {
   "cell_type": "markdown",
   "id": "ff3a1cc1",
   "metadata": {},
   "source": [
    "### Memory"
   ]
  },
  {
   "cell_type": "code",
   "execution_count": 32,
   "id": "6b4728e9",
   "metadata": {},
   "outputs": [],
   "source": [
    "from langgraph.checkpoint.memory import MemorySaver"
   ]
  },
  {
   "cell_type": "code",
   "execution_count": 33,
   "id": "b967681e",
   "metadata": {},
   "outputs": [],
   "source": [
    "memory = MemorySaver()"
   ]
  },
  {
   "cell_type": "code",
   "execution_count": 36,
   "id": "94f19a02",
   "metadata": {},
   "outputs": [
    {
     "data": {
      "image/png": "[encoded data removed]",
      "text/plain": [
       "<IPython.core.display.Image object>"
      ]
     },
     "metadata": {},
     "output_type": "display_data"
    }
   ],
   "source": [
    "workflow_with_tools_memory = StateGraph(MessagesState)\n",
    "\n",
    "workflow_with_tools_memory.add_node(\"llm_w_tool\", call_model_with_tools)\n",
    "workflow_with_tools_memory.add_node(\"mytools\",  tool_node)\n",
    "workflow_with_tools_memory.add_edge(\"mytools\", \"llm_w_tool\")\n",
    "\n",
    "workflow_with_tools_memory.add_edge(START, \"llm_w_tool\")\n",
    "workflow_with_tools_memory.add_conditional_edges(\n",
    "    \"llm_w_tool\",\n",
    "    router_function,\n",
    "    {\n",
    "        \"tools\": \"mytools\",\n",
    "        END: END\n",
    "    }\n",
    ")\n",
    "\n",
    "app_with_tools_memory = workflow_with_tools_memory.compile(checkpointer=memory)\n",
    "\n",
    "display(Image(app_with_tools_memory.get_graph().draw_mermaid_png()))"
   ]
  },
  {
   "cell_type": "code",
   "execution_count": 37,
   "id": "6f552668",
   "metadata": {},
   "outputs": [],
   "source": [
    "config = {\n",
    "    \"configurable\": {\n",
    "        \"thread_id\": \"1\"\n",
    "    }\n",
    "}"
   ]
  },
  {
   "cell_type": "code",
   "execution_count": 38,
   "id": "58944496",
   "metadata": {},
   "outputs": [],
   "source": [
    "event = app_with_tools_memory.stream(\n",
    "    {\n",
    "        \"messages\": [\n",
    "            \"What is the weather in Delhi? Can you tell me good hotels in Delhi?\"\n",
    "        ]\n",
    "    },\n",
    "    config=config,\n",
    "    stream_mode=\"values\"\n",
    ")"
   ]
  },
  {
   "cell_type": "code",
   "execution_count": 40,
   "id": "f30fed2c",
   "metadata": {},
   "outputs": [
    {
     "name": "stdout",
     "output_type": "stream",
     "text": [
      "==================================\u001b[1m Ai Message \u001b[0m==================================\n",
      "Tool Calls:\n",
      "  search (msrcsjjab)\n",
      " Call ID: msrcsjjab\n",
      "  Args:\n",
      "    query: weather in Delhi\n",
      "=================================\u001b[1m Tool Message \u001b[0m=================================\n",
      "Name: search\n",
      "\n",
      "the temperature in Delhi is 30 degrees Celsius\n",
      "==================================\u001b[1m Ai Message \u001b[0m==================================\n",
      "Tool Calls:\n",
      "  search (k26e368ca)\n",
      " Call ID: k26e368ca\n",
      "  Args:\n",
      "    query: good hotels in Delhi\n",
      "=================================\u001b[1m Tool Message \u001b[0m=================================\n",
      "Name: search\n",
      "\n",
      "the temperature in Delhi is 30 degrees Celsius\n",
      "==================================\u001b[1m Ai Message \u001b[0m==================================\n",
      "\n",
      "Some highly-rated hotels in Delhi include The Oberoi, The Leela Palace, and The Taj Palace.\n"
     ]
    }
   ],
   "source": [
    "for output in event:\n",
    "    output[\"messages\"][-1].pretty_print()"
   ]
  },
  {
   "cell_type": "code",
   "execution_count": 41,
   "id": "bf11bbb3",
   "metadata": {},
   "outputs": [
    {
     "data": {
      "text/plain": [
       "{'v': 3,\n",
       " 'ts': '2025-06-17T13:57:28.987145+00:00',\n",
       " 'id': '1f04b830-1b43-654a-8005-83ebaccc4de9',\n",
       " 'channel_versions': {'__start__': '00000000000000000000000000000002.0.9825415920165259',\n",
       "  'messages': '00000000000000000000000000000007.0.9759722393025856',\n",
       "  'branch:to:llm_w_tool': '00000000000000000000000000000007.0.96912135217143',\n",
       "  'branch:to:mytools': '00000000000000000000000000000006.0.5165378306324228'},\n",
       " 'versions_seen': {'__input__': {},\n",
       "  '__start__': {'__start__': '00000000000000000000000000000001.0.955671112079471'},\n",
       "  'llm_w_tool': {'branch:to:llm_w_tool': '00000000000000000000000000000006.0.5724009290829353'},\n",
       "  'mytools': {'branch:to:mytools': '00000000000000000000000000000005.0.7731320341794432'}},\n",
       " 'channel_values': {'messages': [HumanMessage(content='What is the weather in Delhi? Can you tell me good hotels in Delhi?', additional_kwargs={}, response_metadata={}, id='5e2a7114-2058-4cae-9adf-4e559acaeb4c'),\n",
       "   AIMessage(content='', additional_kwargs={'tool_calls': [{'id': 'msrcsjjab', 'function': {'arguments': '{\"query\":\"weather in Delhi\"}', 'name': 'search'}, 'type': 'function'}]}, response_metadata={'token_usage': {'completion_tokens': 81, 'prompt_tokens': 955, 'total_tokens': 1036, 'completion_time': 0.147272727, 'prompt_time': 0.033879141, 'queue_time': 0.249504738, 'total_time': 0.181151868}, 'model_name': 'gemma2-9b-it', 'system_fingerprint': 'fp_10c08bf97d', 'finish_reason': 'tool_calls', 'logprobs': None}, id='run--bce2062b-abcc-4fd7-afc8-327323bd8711-0', tool_calls=[{'name': 'search', 'args': {'query': 'weather in Delhi'}, 'id': 'msrcsjjab', 'type': 'tool_call'}], usage_metadata={'input_tokens': 955, 'output_tokens': 81, 'total_tokens': 1036}),\n",
       "   ToolMessage(content='the temperature in Delhi is 30 degrees Celsius', name='search', id='95ac86fd-a7cd-40e3-abf2-fdd285d4f7bb', tool_call_id='msrcsjjab'),\n",
       "   AIMessage(content='', additional_kwargs={'tool_calls': [{'id': 'k26e368ca', 'function': {'arguments': '{\"query\":\"good hotels in Delhi\"}', 'name': 'search'}, 'type': 'function'}]}, response_metadata={'token_usage': {'completion_tokens': 42, 'prompt_tokens': 1032, 'total_tokens': 1074, 'completion_time': 0.076363636, 'prompt_time': 0.043996026, 'queue_time': 0.246416983, 'total_time': 0.120359662}, 'model_name': 'gemma2-9b-it', 'system_fingerprint': 'fp_10c08bf97d', 'finish_reason': 'tool_calls', 'logprobs': None}, id='run--cd2b6f53-2a06-4e0e-8778-1987e8ff0c7b-0', tool_calls=[{'name': 'search', 'args': {'query': 'good hotels in Delhi'}, 'id': 'k26e368ca', 'type': 'tool_call'}], usage_metadata={'input_tokens': 1032, 'output_tokens': 42, 'total_tokens': 1074}),\n",
       "   ToolMessage(content='the temperature in Delhi is 30 degrees Celsius', name='search', id='0a025a06-bdf7-4908-a650-7ab344dbffa2', tool_call_id='k26e368ca'),\n",
       "   AIMessage(content='Some highly-rated hotels in Delhi include The Oberoi, The Leela Palace, and The Taj Palace.  \\n', additional_kwargs={}, response_metadata={'token_usage': {'completion_tokens': 26, 'prompt_tokens': 1118, 'total_tokens': 1144, 'completion_time': 0.047272727, 'prompt_time': 0.065210697, 'queue_time': 0.24872652, 'total_time': 0.112483424}, 'model_name': 'gemma2-9b-it', 'system_fingerprint': 'fp_10c08bf97d', 'finish_reason': 'stop', 'logprobs': None}, id='run--d94aeed1-0c01-4488-ae0e-015fa82141ba-0', usage_metadata={'input_tokens': 1118, 'output_tokens': 26, 'total_tokens': 1144})]},\n",
       " 'pending_sends': []}"
      ]
     },
     "execution_count": 41,
     "metadata": {},
     "output_type": "execute_result"
    }
   ],
   "source": [
    "memory.get(config)"
   ]
  },
  {
   "cell_type": "code",
   "execution_count": 42,
   "id": "1a12dde6",
   "metadata": {},
   "outputs": [],
   "source": [
    "event2 = app_with_tools_memory.stream(\n",
    "    {\n",
    "        \"messages\": [\n",
    "            \"What is the weather in Mumbai? Can you tell me good hotels in Mumbai?\"\n",
    "        ]    },\n",
    "    config=config,\n",
    "    stream_mode=\"values\"\n",
    ")"
   ]
  },
  {
   "cell_type": "code",
   "execution_count": 43,
   "id": "b5b13179",
   "metadata": {},
   "outputs": [
    {
     "name": "stdout",
     "output_type": "stream",
     "text": [
      "================================\u001b[1m Human Message \u001b[0m=================================\n",
      "\n",
      "What is the weather in Mumbai? Can you tell me good hotels in Mumbai?\n",
      "==================================\u001b[1m Ai Message \u001b[0m==================================\n",
      "Tool Calls:\n",
      "  search (5qkgerce3)\n",
      " Call ID: 5qkgerce3\n",
      "  Args:\n",
      "    query: weather in Mumbai\n",
      "=================================\u001b[1m Tool Message \u001b[0m=================================\n",
      "Name: search\n",
      "\n",
      "The temperature is 25 degrees Celsius in the city you asked about.\n",
      "==================================\u001b[1m Ai Message \u001b[0m==================================\n",
      "\n",
      "Some highly-rated hotels in Mumbai include The Taj Mahal Palace, The Oberoi, and The St. Regis.\n"
     ]
    }
   ],
   "source": [
    "for output in event2:\n",
    "    output[\"messages\"][-1].pretty_print()"
   ]
  },
  {
   "cell_type": "code",
   "execution_count": 44,
   "id": "746d376a",
   "metadata": {},
   "outputs": [
    {
     "data": {
      "text/plain": [
       "{'v': 3,\n",
       " 'ts': '2025-06-17T14:04:15.004439+00:00',\n",
       " 'id': '1f04b83f-3b58-6754-800a-c8498a58f8cc',\n",
       " 'channel_versions': {'__start__': '00000000000000000000000000000009.0.28019577100753623',\n",
       "  'messages': '00000000000000000000000000000012.0.9215719864416619',\n",
       "  'branch:to:llm_w_tool': '00000000000000000000000000000012.0.7051654314274487',\n",
       "  'branch:to:mytools': '00000000000000000000000000000011.0.22800255853666307'},\n",
       " 'versions_seen': {'__input__': {},\n",
       "  '__start__': {'__start__': '00000000000000000000000000000008.0.27150894523402747'},\n",
       "  'llm_w_tool': {'branch:to:llm_w_tool': '00000000000000000000000000000011.0.8508879316950201'},\n",
       "  'mytools': {'branch:to:mytools': '00000000000000000000000000000010.0.37675902632016045'}},\n",
       " 'channel_values': {'messages': [HumanMessage(content='What is the weather in Delhi? Can you tell me good hotels in Delhi?', additional_kwargs={}, response_metadata={}, id='5e2a7114-2058-4cae-9adf-4e559acaeb4c'),\n",
       "   AIMessage(content='', additional_kwargs={'tool_calls': [{'id': 'msrcsjjab', 'function': {'arguments': '{\"query\":\"weather in Delhi\"}', 'name': 'search'}, 'type': 'function'}]}, response_metadata={'token_usage': {'completion_tokens': 81, 'prompt_tokens': 955, 'total_tokens': 1036, 'completion_time': 0.147272727, 'prompt_time': 0.033879141, 'queue_time': 0.249504738, 'total_time': 0.181151868}, 'model_name': 'gemma2-9b-it', 'system_fingerprint': 'fp_10c08bf97d', 'finish_reason': 'tool_calls', 'logprobs': None}, id='run--bce2062b-abcc-4fd7-afc8-327323bd8711-0', tool_calls=[{'name': 'search', 'args': {'query': 'weather in Delhi'}, 'id': 'msrcsjjab', 'type': 'tool_call'}], usage_metadata={'input_tokens': 955, 'output_tokens': 81, 'total_tokens': 1036}),\n",
       "   ToolMessage(content='the temperature in Delhi is 30 degrees Celsius', name='search', id='95ac86fd-a7cd-40e3-abf2-fdd285d4f7bb', tool_call_id='msrcsjjab'),\n",
       "   AIMessage(content='', additional_kwargs={'tool_calls': [{'id': 'k26e368ca', 'function': {'arguments': '{\"query\":\"good hotels in Delhi\"}', 'name': 'search'}, 'type': 'function'}]}, response_metadata={'token_usage': {'completion_tokens': 42, 'prompt_tokens': 1032, 'total_tokens': 1074, 'completion_time': 0.076363636, 'prompt_time': 0.043996026, 'queue_time': 0.246416983, 'total_time': 0.120359662}, 'model_name': 'gemma2-9b-it', 'system_fingerprint': 'fp_10c08bf97d', 'finish_reason': 'tool_calls', 'logprobs': None}, id='run--cd2b6f53-2a06-4e0e-8778-1987e8ff0c7b-0', tool_calls=[{'name': 'search', 'args': {'query': 'good hotels in Delhi'}, 'id': 'k26e368ca', 'type': 'tool_call'}], usage_metadata={'input_tokens': 1032, 'output_tokens': 42, 'total_tokens': 1074}),\n",
       "   ToolMessage(content='the temperature in Delhi is 30 degrees Celsius', name='search', id='0a025a06-bdf7-4908-a650-7ab344dbffa2', tool_call_id='k26e368ca'),\n",
       "   AIMessage(content='Some highly-rated hotels in Delhi include The Oberoi, The Leela Palace, and The Taj Palace.  \\n', additional_kwargs={}, response_metadata={'token_usage': {'completion_tokens': 26, 'prompt_tokens': 1118, 'total_tokens': 1144, 'completion_time': 0.047272727, 'prompt_time': 0.065210697, 'queue_time': 0.24872652, 'total_time': 0.112483424}, 'model_name': 'gemma2-9b-it', 'system_fingerprint': 'fp_10c08bf97d', 'finish_reason': 'stop', 'logprobs': None}, id='run--d94aeed1-0c01-4488-ae0e-015fa82141ba-0', usage_metadata={'input_tokens': 1118, 'output_tokens': 26, 'total_tokens': 1144}),\n",
       "   HumanMessage(content='What is the weather in Mumbai? Can you tell me good hotels in Mumbai?', additional_kwargs={}, response_metadata={}, id='fef66b40-0c44-4701-9890-d5bdfc7a03fc'),\n",
       "   AIMessage(content='', additional_kwargs={'tool_calls': [{'id': '5qkgerce3', 'function': {'arguments': '{\"query\":\"weather in Mumbai\"}', 'name': 'search'}, 'type': 'function'}]}, response_metadata={'token_usage': {'completion_tokens': 48, 'prompt_tokens': 1168, 'total_tokens': 1216, 'completion_time': 0.087272727, 'prompt_time': 0.049520283, 'queue_time': 0.242982906, 'total_time': 0.13679301}, 'model_name': 'gemma2-9b-it', 'system_fingerprint': 'fp_10c08bf97d', 'finish_reason': 'tool_calls', 'logprobs': None}, id='run--c1ea7360-12d5-49bc-8256-83b946f7e078-0', tool_calls=[{'name': 'search', 'args': {'query': 'weather in Mumbai'}, 'id': '5qkgerce3', 'type': 'tool_call'}], usage_metadata={'input_tokens': 1168, 'output_tokens': 48, 'total_tokens': 1216}),\n",
       "   ToolMessage(content='The temperature is 25 degrees Celsius in the city you asked about.', name='search', id='8ff834a1-417a-402a-9edd-e2bd84b89a20', tool_call_id='5qkgerce3'),\n",
       "   AIMessage(content='Some highly-rated hotels in Mumbai include The Taj Mahal Palace, The Oberoi, and The St. Regis. \\n', additional_kwargs={}, response_metadata={'token_usage': {'completion_tokens': 27, 'prompt_tokens': 1252, 'total_tokens': 1279, 'completion_time': 0.049090909, 'prompt_time': 0.043476297, 'queue_time': 0.246189233, 'total_time': 0.092567206}, 'model_name': 'gemma2-9b-it', 'system_fingerprint': 'fp_10c08bf97d', 'finish_reason': 'stop', 'logprobs': None}, id='run--fa4e21a7-d139-4971-bfbd-308f50a43b11-0', usage_metadata={'input_tokens': 1252, 'output_tokens': 27, 'total_tokens': 1279})]},\n",
       " 'pending_sends': []}"
      ]
     },
     "execution_count": 44,
     "metadata": {},
     "output_type": "execute_result"
    }
   ],
   "source": [
    "memory.get(config)"
   ]
  },
  {
   "cell_type": "code",
   "execution_count": null,
   "id": "c9bd60d8",
   "metadata": {},
   "outputs": [],
   "source": []
  }
 ],
 "metadata": {
  "kernelspec": {
   "display_name": "venv",
   "language": "python",
   "name": "python3"
  },
  "language_info": {
   "codemirror_mode": {
    "name": "ipython",
    "version": 3
   },
   "file_extension": ".py",
   "mimetype": "text/x-python",
   "name": "python",
   "nbconvert_exporter": "python",
   "pygments_lexer": "ipython3",
   "version": "3.10.9"
  }
 },
 "nbformat": 4,
 "nbformat_minor": 5
}
