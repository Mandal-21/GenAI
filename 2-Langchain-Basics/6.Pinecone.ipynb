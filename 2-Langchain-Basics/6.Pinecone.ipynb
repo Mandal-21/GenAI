{
 "cells": [
  {
   "cell_type": "code",
   "execution_count": 1,
   "id": "52b1d168",
   "metadata": {},
   "outputs": [],
   "source": [
    "from dotenv import load_dotenv\n",
    "import os\n",
    "\n",
    "load_dotenv()\n",
    "\n",
    "os.environ['HF_TOKEN'] = os.getenv('HF_TOKEN')"
   ]
  },
  {
   "cell_type": "code",
   "execution_count": 2,
   "id": "f848895a",
   "metadata": {},
   "outputs": [
    {
     "name": "stderr",
     "output_type": "stream",
     "text": [
      "/Users/amarmandal/Documents/coding/GenAI_Course/venv/lib/python3.10/site-packages/tqdm/auto.py:21: TqdmWarning: IProgress not found. Please update jupyter and ipywidgets. See https://ipywidgets.readthedocs.io/en/stable/user_install.html\n",
      "  from .autonotebook import tqdm as notebook_tqdm\n"
     ]
    }
   ],
   "source": [
    "from langchain_community.vectorstores import FAISS\n",
    "from langchain_huggingface import HuggingFaceEmbeddings\n",
    "\n",
    "hf_embeddings = HuggingFaceEmbeddings(\n",
    "    model_name=\"sentence-transformers/all-MiniLM-L6-v2\"\n",
    ")"
   ]
  },
  {
   "cell_type": "code",
   "execution_count": 4,
   "id": "c5871086",
   "metadata": {},
   "outputs": [
    {
     "data": {
      "text/plain": [
       "384"
      ]
     },
     "execution_count": 4,
     "metadata": {},
     "output_type": "execute_result"
    }
   ],
   "source": [
    "len(hf_embeddings.embed_query(\"This is a test query\"))"
   ]
  },
  {
   "cell_type": "code",
   "execution_count": 6,
   "id": "5bf73dfe",
   "metadata": {},
   "outputs": [
    {
     "data": {
      "text/plain": [
       "1536"
      ]
     },
     "execution_count": 6,
     "metadata": {},
     "output_type": "execute_result"
    }
   ],
   "source": [
    "# openai embeddings\n",
    "from langchain_openai import OpenAIEmbeddings\n",
    "\n",
    "openai_emb_obj = OpenAIEmbeddings()\n",
    "\n",
    "openai_embedding = openai_emb_obj.embed_query(\"This is a test query\")\n",
    "len(openai_embedding)"
   ]
  },
  {
   "cell_type": "markdown",
   "id": "21b058d7",
   "metadata": {},
   "source": [
    "#### Pinecone"
   ]
  },
  {
   "cell_type": "code",
   "execution_count": 9,
   "id": "91996645",
   "metadata": {},
   "outputs": [],
   "source": [
    "from pinecone import Pinecone\n",
    "import os\n",
    "\n",
    "os.environ['PINECONE_API_KEY'] = os.getenv('PINECONE_API_KEY')\n"
   ]
  },
  {
   "cell_type": "code",
   "execution_count": 10,
   "id": "5562521f",
   "metadata": {},
   "outputs": [],
   "source": [
    "pc = Pinecone(\n",
    "    api_key=os.getenv('PINECONE_API_KEY'),\n",
    ")"
   ]
  },
  {
   "cell_type": "markdown",
   "id": "55b032e9",
   "metadata": {},
   "source": [
    "### Creating a Pinecone index"
   ]
  },
  {
   "cell_type": "code",
   "execution_count": 14,
   "id": "9bf683b1",
   "metadata": {},
   "outputs": [],
   "source": [
    "from pinecone import ServerlessSpec\n",
    "\n",
    "index_name = \"genaicourse\"\n",
    "\n",
    "if not pc.has_index(index_name): \n",
    "    pc.create_index(\n",
    "        name=index_name,\n",
    "        dimension=1536,  # Dimension of the embeddings\n",
    "        metric=\"cosine\",  # Similarity metric\n",
    "        spec=ServerlessSpec(\n",
    "            cloud=\"aws\",\n",
    "            region=\"us-east-1\",\n",
    "        )\n",
    "    )"
   ]
  },
  {
   "cell_type": "markdown",
   "id": "ee7bf2bc",
   "metadata": {},
   "source": [
    "### LOading data into Pinecone"
   ]
  },
  {
   "cell_type": "code",
   "execution_count": 15,
   "id": "a952acdb",
   "metadata": {},
   "outputs": [],
   "source": [
    "from langchain_pinecone import PineconeVectorStore\n",
    "\n",
    "vs = PineconeVectorStore(\n",
    "    index_name=index_name,\n",
    "    embedding=openai_emb_obj\n",
    ")"
   ]
  },
  {
   "cell_type": "code",
   "execution_count": 16,
   "id": "2add8cf0",
   "metadata": {},
   "outputs": [],
   "source": [
    "from uuid import uuid4\n",
    "from langchain_core.documents import Document\n",
    "\n",
    "# 10 documents to add\n",
    "docs = [\n",
    "    Document(\n",
    "        page_content=f\"This is a test document {i}\",\n",
    "        metadata={\n",
    "            \"id\": str(uuid4()),\n",
    "            \"source\": f\"source_{i}\",\n",
    "            \"title\": f\"Title {i}\",\n",
    "            \"author\": f\"Author {i}\"\n",
    "        }\n",
    "    )\n",
    "    for i in range(10)\n",
    "]"
   ]
  },
  {
   "cell_type": "code",
   "execution_count": 17,
   "id": "a9b59532",
   "metadata": {},
   "outputs": [
    {
     "data": {
      "text/plain": [
       "['daf22ea2-3aca-43e5-874a-8a94adf3feee',\n",
       " '92ad00a4-ef5a-436e-80f5-3d9979625044',\n",
       " '213f3470-4031-477b-ae04-b9d26bb85228',\n",
       " 'f5978339-7ad8-43a6-bf33-33af70b6fff7',\n",
       " '4ec7c629-d3e1-4f8c-8b38-135963d8359a',\n",
       " 'cb72af4c-5131-4951-bc48-907ab84ee8b9',\n",
       " '1b102b6c-5f93-4869-846f-c5bd8d357360',\n",
       " '1481a4c9-33b3-40ae-b106-8b1c5f15a764',\n",
       " '7358ef83-b010-42bb-aa41-006041e137b9',\n",
       " '0f7d3fc3-3f2c-462d-88dc-38238726530f']"
      ]
     },
     "execution_count": 17,
     "metadata": {},
     "output_type": "execute_result"
    }
   ],
   "source": [
    "# adding documents to the vector store\n",
    "vs.add_documents(docs)"
   ]
  },
  {
   "cell_type": "code",
   "execution_count": 19,
   "id": "dbe229f1",
   "metadata": {},
   "outputs": [
    {
     "name": "stdout",
     "output_type": "stream",
     "text": [
      "Document: This is a test document 1, Metadata: {'author': 'Author 1', 'id': 'c1b8b8f5-cc00-45a8-b038-68b213912194', 'source': 'source_1', 'title': 'Title 1'}\n"
     ]
    }
   ],
   "source": [
    "results = vs.similarity_search(\"This is a test query\", k=3, filter={\"author\": \"Author 1\"})\n",
    "for result in results:\n",
    "    print(f\"Document: {result.page_content}, Metadata: {result.metadata}\")"
   ]
  },
  {
   "cell_type": "code",
   "execution_count": 26,
   "id": "6a689fc2",
   "metadata": {},
   "outputs": [],
   "source": [
    "retriever = vs.as_retriever(\n",
    "    search_type=\"similarity_score_threshold\",  # Using similarity search\n",
    "    search_kwargs={\n",
    "        \"k\": 3,\n",
    "        \"score_threshold\": 0.5,  # Optional threshold for filtering results\n",
    "    }\n",
    ")\n",
    "\n",
    "# Using the retriever to get documents\n",
    "retrieved_docs = retriever.invoke(\"This is a test query\")"
   ]
  },
  {
   "cell_type": "code",
   "execution_count": 27,
   "id": "3f8bab71",
   "metadata": {},
   "outputs": [
    {
     "data": {
      "text/plain": [
       "[Document(id='92ad00a4-ef5a-436e-80f5-3d9979625044', metadata={'author': 'Author 1', 'id': 'c1b8b8f5-cc00-45a8-b038-68b213912194', 'source': 'source_1', 'title': 'Title 1'}, page_content='This is a test document 1'),\n",
       " Document(id='f5978339-7ad8-43a6-bf33-33af70b6fff7', metadata={'author': 'Author 3', 'id': '201b0c8a-5737-4ac5-8aba-b3016dd239d7', 'source': 'source_3', 'title': 'Title 3'}, page_content='This is a test document 3'),\n",
       " Document(id='213f3470-4031-477b-ae04-b9d26bb85228', metadata={'author': 'Author 2', 'id': 'f434d7ec-be8f-4da8-8dab-03dc5bdfc161', 'source': 'source_2', 'title': 'Title 2'}, page_content='This is a test document 2')]"
      ]
     },
     "execution_count": 27,
     "metadata": {},
     "output_type": "execute_result"
    }
   ],
   "source": [
    "retrieved_docs"
   ]
  },
  {
   "cell_type": "markdown",
   "id": "204aa51b",
   "metadata": {},
   "source": [
    "#### RAG"
   ]
  },
  {
   "cell_type": "code",
   "execution_count": 28,
   "id": "a28ba111",
   "metadata": {},
   "outputs": [],
   "source": [
    "from langchain_openai import ChatOpenAI\n",
    "\n",
    "llm = ChatOpenAI(\n",
    "    model=\"gpt-4o-mini\"\n",
    ")"
   ]
  },
  {
   "cell_type": "code",
   "execution_count": 31,
   "id": "cf3155c5",
   "metadata": {},
   "outputs": [],
   "source": [
    "from langchain import hub\n",
    "\n",
    "os.environ['HF_TOKEN'] = os.getenv('HF_TOKEN')\n",
    "\n",
    "prompt  = hub.pull(\"rlm/rag-prompt\")"
   ]
  },
  {
   "cell_type": "code",
   "execution_count": 40,
   "id": "9f69d925",
   "metadata": {},
   "outputs": [
    {
     "data": {
      "text/plain": [
       "ChatPromptTemplate(input_variables=['context', 'question'], input_types={}, partial_variables={}, metadata={'lc_hub_owner': 'rlm', 'lc_hub_repo': 'rag-prompt', 'lc_hub_commit_hash': '50442af133e61576e74536c6556cefe1fac147cad032f4377b60c436e6cdcb6e'}, messages=[HumanMessagePromptTemplate(prompt=PromptTemplate(input_variables=['context', 'question'], input_types={}, partial_variables={}, template=\"You are an assistant for question-answering tasks. Use the following pieces of retrieved context to answer the question. If you don't know the answer, just say that you don't know. Use three sentences maximum and keep the answer concise.\\nQuestion: {question} \\nContext: {context} \\nAnswer:\"), additional_kwargs={})])"
      ]
     },
     "execution_count": 40,
     "metadata": {},
     "output_type": "execute_result"
    }
   ],
   "source": [
    "prompt"
   ]
  },
  {
   "cell_type": "code",
   "execution_count": 41,
   "id": "5ef7b481",
   "metadata": {},
   "outputs": [],
   "source": [
    "from langchain_core.prompts import PromptTemplate\n",
    "\n",
    "rag_prompt = PromptTemplate(\n",
    "    template = \"You are an assistant for question-answering tasks. Use the following pieces of retrieved context to answer the question. If you don't know the answer, just say that you don't know. Use three sentences maximum and keep the answer concise.\\nQuestion: {question} \\nContext: {context} \\nAnswer:\",\n",
    "    input_variables=[\"context\", \"question\"]\n",
    ")"
   ]
  },
  {
   "cell_type": "code",
   "execution_count": 42,
   "id": "640fb047",
   "metadata": {},
   "outputs": [],
   "source": [
    "from langchain_core.output_parsers import StrOutputParser\n",
    "from langchain_core.runnables import RunnablePassthrough\n",
    "\n",
    "def format_docs(docs):\n",
    "    return \"\\n\\n\".join(doc.page_content for doc in docs)\n",
    "\n",
    "\n",
    "rag_chain = (\n",
    "    {\"context\": retriever | format_docs, \"question\": RunnablePassthrough()}\n",
    "    | rag_prompt\n",
    "    | llm\n",
    "    | StrOutputParser()\n",
    ")"
   ]
  },
  {
   "cell_type": "code",
   "execution_count": 43,
   "id": "af18fffb",
   "metadata": {},
   "outputs": [
    {
     "data": {
      "text/plain": [
       "'The total number of records is 3.'"
      ]
     },
     "execution_count": 43,
     "metadata": {},
     "output_type": "execute_result"
    }
   ],
   "source": [
    "rag_chain.invoke(\"Total records\")"
   ]
  },
  {
   "cell_type": "code",
   "execution_count": null,
   "id": "80409f0a",
   "metadata": {},
   "outputs": [],
   "source": []
  }
 ],
 "metadata": {
  "kernelspec": {
   "display_name": "venv",
   "language": "python",
   "name": "python3"
  },
  "language_info": {
   "codemirror_mode": {
    "name": "ipython",
    "version": 3
   },
   "file_extension": ".py",
   "mimetype": "text/x-python",
   "name": "python",
   "nbconvert_exporter": "python",
   "pygments_lexer": "ipython3",
   "version": "3.10.9"
  }
 },
 "nbformat": 4,
 "nbformat_minor": 5
}
