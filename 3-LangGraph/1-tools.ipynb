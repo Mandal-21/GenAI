{
 "cells": [
  {
   "cell_type": "code",
   "execution_count": 2,
   "id": "783ce5b3",
   "metadata": {},
   "outputs": [],
   "source": [
    "from langchain_community.tools import WikipediaQueryRun\n",
    "from langchain_community.utilities import WikipediaAPIWrapper"
   ]
  },
  {
   "cell_type": "markdown",
   "id": "f632fd60",
   "metadata": {},
   "source": [
    "## WikiPedia Tool"
   ]
  },
  {
   "cell_type": "code",
   "execution_count": 3,
   "id": "792bdf12",
   "metadata": {},
   "outputs": [],
   "source": [
    "api_wrapper = WikipediaAPIWrapper(top_k_results=5, doc_content_chars_max=500)"
   ]
  },
  {
   "cell_type": "code",
   "execution_count": 4,
   "id": "08a4b5b7",
   "metadata": {},
   "outputs": [],
   "source": [
    "wiki_tool = WikipediaQueryRun(\n",
    "    api_wrapper=api_wrapper\n",
    ")"
   ]
  },
  {
   "cell_type": "code",
   "execution_count": 6,
   "id": "d11f108a",
   "metadata": {},
   "outputs": [
    {
     "data": {
      "text/plain": [
       "('wikipedia',\n",
       " 'A wrapper around Wikipedia. Useful for when you need to answer general questions about people, places, companies, facts, historical events, or other subjects. Input should be a search query.',\n",
       " {'query': {'description': 'query to look up on wikipedia',\n",
       "   'title': 'Query',\n",
       "   'type': 'string'}})"
      ]
     },
     "execution_count": 6,
     "metadata": {},
     "output_type": "execute_result"
    }
   ],
   "source": [
    "wiki_tool.name, wiki_tool.description, wiki_tool.args"
   ]
  },
  {
   "cell_type": "code",
   "execution_count": 7,
   "id": "43cfc054",
   "metadata": {},
   "outputs": [
    {
     "data": {
      "text/plain": [
       "'Page: Errol Musk\\nSummary: Errol Graham Musk (born 25 May 1946) is a South African businessman, politician, and the patriarch of the Musk family. He was a member of Pretoria City Council from 1972 to 1983, and was a member of the Progressive Federal Party from 1980 to 1983 before resigning over political disagreements. As a businessman, he worked as a mechanical engineering consultant, developed properties, and invested in various ventures including emerald trading.\\nMusk married Maye Haldeman in '"
      ]
     },
     "execution_count": 7,
     "metadata": {},
     "output_type": "execute_result"
    }
   ],
   "source": [
    "wiki_tool.run({\"query\": \"Who is Elon Musk?\"})"
   ]
  },
  {
   "cell_type": "markdown",
   "id": "3b7bf57b",
   "metadata": {},
   "source": [
    "## Youtube Search Tool"
   ]
  },
  {
   "cell_type": "code",
   "execution_count": 2,
   "id": "ca2f83d7",
   "metadata": {},
   "outputs": [],
   "source": [
    "from langchain_community.tools import YouTubeSearchTool"
   ]
  },
  {
   "cell_type": "code",
   "execution_count": 3,
   "id": "1b7e3f64",
   "metadata": {},
   "outputs": [],
   "source": [
    "yt_tool = YouTubeSearchTool()"
   ]
  },
  {
   "cell_type": "code",
   "execution_count": 4,
   "id": "4ac839d3",
   "metadata": {},
   "outputs": [
    {
     "data": {
      "text/plain": [
       "('youtube_search',\n",
       " 'search for youtube videos associated with a person. the input to this tool should be a comma separated list, the first part contains a person name and the second a number that is the maximum number of video results to return aka num_results. the second part is optional',\n",
       " {'query': {'title': 'Query', 'type': 'string'}})"
      ]
     },
     "execution_count": 4,
     "metadata": {},
     "output_type": "execute_result"
    }
   ],
   "source": [
    "yt_tool.name, yt_tool.description, yt_tool.args"
   ]
  },
  {
   "cell_type": "code",
   "execution_count": 9,
   "id": "98d40ef0",
   "metadata": {},
   "outputs": [
    {
     "data": {
      "text/plain": [
       "\"['https://www.youtube.com/watch?v=HKyDsanArDs&pp=ygURQW1hciBNYW5kYWwgdmxvZ3M%3D', 'https://www.youtube.com/watch?v=7nPWSvD9GDg&pp=ygURQW1hciBNYW5kYWwgdmxvZ3M%3D']\""
      ]
     },
     "execution_count": 9,
     "metadata": {},
     "output_type": "execute_result"
    }
   ],
   "source": [
    "yt_tool.run({\"query\": \"Amar Mandal vlogs\"})"
   ]
  },
  {
   "cell_type": "markdown",
   "id": "1ba39c37",
   "metadata": {},
   "source": [
    "## Tavily Search Tool"
   ]
  },
  {
   "cell_type": "code",
   "execution_count": 13,
   "id": "fa2d570b",
   "metadata": {},
   "outputs": [],
   "source": [
    "from langchain_community.tools import TavilySearchResults\n",
    "import os\n",
    "from dotenv import load_dotenv\n",
    "\n",
    "load_dotenv()\n",
    "\n",
    "os.environ[\"TAVILY_API_KEY\"] = os.getenv(\"TAVILY_API_KEY\")\n",
    "\n",
    "tavily_tool = TavilySearchResults()"
   ]
  },
  {
   "cell_type": "code",
   "execution_count": 14,
   "id": "e449476a",
   "metadata": {},
   "outputs": [
    {
     "data": {
      "text/plain": [
       "('tavily_search_results_json',\n",
       " 'A search engine optimized for comprehensive, accurate, and trusted results. Useful for when you need to answer questions about current events. Input should be a search query.',\n",
       " {'query': {'description': 'search query to look up',\n",
       "   'title': 'Query',\n",
       "   'type': 'string'}})"
      ]
     },
     "execution_count": 14,
     "metadata": {},
     "output_type": "execute_result"
    }
   ],
   "source": [
    "tavily_tool.name, tavily_tool.description, tavily_tool.args"
   ]
  },
  {
   "cell_type": "code",
   "execution_count": 15,
   "id": "e4f87a29",
   "metadata": {},
   "outputs": [
    {
     "data": {
      "text/plain": [
       "[{'title': \"Yesterday's IPL Match Result: Who won IPL 2025 crown last night ...\",\n",
       "  'url': 'https://m.economictimes.com/news/sports/yesterdays-ipl-match-result-who-won-ipl-2025-crown-last-night-rcb-or-pbks-narendra-modi-stadium-hosts-one-for-the-history-books/articleshow/121609813.cms',\n",
       "  'content': \"Fans were treated to a high-pressure game where every ball mattered.\\n\\nWho Won Yesterday’s IPL Match?\\n------------------------------\\n\\nRoyal Challengers Bengaluru won the IPL 2025 final by 6 runs against Punjab Kings. The close match went right down to the final over, making it a nail-biting finish. With this win, RCB finally lifted their first IPL trophy.\\n\\n[](https://vdo.ai/contact?utm_medium=video&utm_term=economictimes.indiatimes.com&utm_source=vdoai_logo) [...] IPL 2025 wrapped up in spectacular fashion after weeks of high-octane cricket, nail-biting finishes, and unforgettable individual performances. The much-anticipated final at the Narendra Modi Stadium in Ahmedabad saw Royal Challengers Bengaluru (RCB) clash with Punjab Kings (PBKS) in a match that had fans on the edge of their seats. Both teams were chasing history, Punjab dreaming of their first-ever title, and RCB aiming to end an 18-year-long title drought. What followed was a grand finale [...] Royal Challengers Bengaluru defeated Punjab Kings in a thrilling IPL 2025 final. RCB secured their first-ever IPL title after an 18-year wait. The match went down to the wire, with RCB winning by 6 runs. Krunal Pandya was named Man of the Match for his economical bowling. Shashank Singh's brilliant knock went in vain.\",\n",
       "  'score': 0.63804686},\n",
       " {'title': 'IPL FINAL : RCB vs PBKS | Live Cricket Match Score & Commentary',\n",
       "  'url': 'https://www.youtube.com/watch?v=T9bGCWZGRNM',\n",
       "  'content': 'थी गुजरात और मुंबई की टीम। जहां पर मुंबई की टीम ने गुजरात को एलिमिनेट किया और पहुंचे क्वालीफ़ायर टू पे। और क्वालीफ़ायर टू पे पंजाब ने एक बेहतरीन क्रिकेट दिखाते हुए मुंबई को हरा दिया था। और अब बारी है फाइनल मुकाबले की जहां पर आरसीबी और पंजाब किंग्स है आमने-सामने। और देखते हैं आखिरकार ट्रॉफी किसके नाम आने वाली है। थोड़ी देर में खेल की शुरुआत होगी। थोड़ी देर में पहली गेंद आने वाला है। देखना रहेगा दिलचस्प कि आज आखिरकार कौन सी टीम बाजी मारेगी। आगे बढ़े दोस्तों एक चर्चा कर लेते हैं मौसम के भी बारे में। [...] आखिरकार इस फाइनल मुकाबले को कौन सी टीम जीतने वाली है। तो टॉप फोर पे पहुंची थी चार टीमें पंजाब, बेंगलुरु, गुजरात और मुंबई। क्वालीफ़ायर वन 29 मई के दिन खेला गया था। जहां पर बेंगलुरु ने बाजी मारते हुए फाइनल पे जगह बना ली और वहीं पंजाब हारने के बाद पहुंचा क्वालीफ़ायर टू पे। एलिमिनेटर पे भिड़ी थी गुजरात और मुंबई की टीम। जहां पर मुंबई की टीम ने गुजरात को एलिमिनेट किया और पहुंचे क्वालीफ़ायर टू पे। और क्वालीफ़ायर टू पे पंजाब ने एक बेहतरीन क्रिकेट दिखाते हुए मुंबई को हरा दिया था। और अब बारी है फाइनल मुकाबले [...] टू पे। एलिमिनेटर पे भिड़ी थी गुजरात और मुंबई की टीम जहां पर मुंबई की टीम ने गुजरात को एलिमिनेट किया और पहुंचे क्वालीिफायर टू पे। और क्वालीफायर टू पे पंजाब ने एक बेहतरीन क्रिकेट दिखाते हुए मुंबई को हरा दिया था। और अब बारी है फाइनल मुकाबले की जहां पर आरसीबी और पंजाब किंग्स है आमने-सामने। और देखते हैं आखिरकार ट्रॉफी किसके नाम आने वाली है। थोड़ी देर में खेल की शुरुआत होगी। थोड़ी देर में पहली गेंद आने वाला है। देखना रहेगा दिलचस्प कि आज आखिरकार कौन सी टीम बाजी मारेगी। आगे बढ़े दोस्तों एक चर्चा कर',\n",
       "  'score': 0.5518883},\n",
       " {'title': 'TATA IPL 2025, FINAL, RCB vs PBKS - Match Report',\n",
       "  'url': 'https://www.iplt20.com/news/4241/tata-ipl-2025-final-rcb-vs-pbks-match-report',\n",
       "  'content': 'In a game that was most fitting for a final, Royal Challengers Bengaluru (RCB) managed to keep their nerves to beat Punjab Kings (PBKS) by six runs. With both teams in Red fighting for their maiden title, there was always going to be joy on one side and heartbreak on the other.\\n\\n[A post shared by IPL (@iplt20)](https://www.instagram.com/p/DKcp_XQy11x/?utm_source=ig_embed&utm_campaign=loading) [...] In a game that was most fitting for a final, Royal Challengers Bengaluru (RCB) managed to keep their nerves to beat Punjab Kings (PBKS) by six runs. With both teams in Red fighting for their maiden title, there was always going to be joy on one side and heartbreak on the other.\\n\\n> View this post on Instagram\\n>\\n> [A post shared by IPL (@iplt20)](https://www.instagram.com/p/DKcp_XQy11x/?utm_source=ig_embed&utm_campaign=loading) [...] For RCB, the seamers kept things tight at the end, with Bhuvaneshwar Kumar, Yash Dayal and Hazelwood bowling tight overs to help RCB cross the final hurdle. Bhuvi picking up 2 of the wickets in the end, hurrying the downfall, while Hazelwood, Yash Dayal and Shepherd picked up a wicket each.',\n",
       "  'score': 0.52203226},\n",
       " {'title': 'IPL Final Match Report with Nikhil Naz | Sports Today - YouTube',\n",
       "  'url': 'https://www.youtube.com/watch?v=XZsP5LdeoPk',\n",
       "  'content': \"🔥 Whether it was Virat Kohli’s leadership, Rajat Patidar’s explosive innings, or Mohammed Siraj's fiery spells — this final had it all.\\nNikhil dives deep into the key turning points, statistical highlights, and post-match reactions straight from the field.\\n\\n🔔 Don’t forget to LIKE, COMMENT, and SUBSCRIBE for more exclusive IPL content, expert analysis, and sports news from Sports Today.\\n\\n📢 Join the conversation — Was this the best IPL final ever?\",\n",
       "  'score': 0.45885846}]"
      ]
     },
     "execution_count": 15,
     "metadata": {},
     "output_type": "execute_result"
    }
   ],
   "source": [
    "tavily_tool.invoke({\"query\": \"What happend in the last IPL match?\"})"
   ]
  },
  {
   "cell_type": "code",
   "execution_count": null,
   "id": "e7a093ee",
   "metadata": {},
   "outputs": [],
   "source": []
  }
 ],
 "metadata": {
  "kernelspec": {
   "display_name": "venv",
   "language": "python",
   "name": "python3"
  },
  "language_info": {
   "codemirror_mode": {
    "name": "ipython",
    "version": 3
   },
   "file_extension": ".py",
   "mimetype": "text/x-python",
   "name": "python",
   "nbconvert_exporter": "python",
   "pygments_lexer": "ipython3",
   "version": "3.10.9"
  }
 },
 "nbformat": 4,
 "nbformat_minor": 5
}
