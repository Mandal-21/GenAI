{
 "cells": [
  {
   "cell_type": "code",
   "execution_count": 2,
   "id": "63825430",
   "metadata": {},
   "outputs": [
    {
     "name": "stdout",
     "output_type": "stream",
     "text": [
      "==================================\u001b[1m Ai Message \u001b[0m==================================\n",
      "\n",
      "<think>\n",
      "\n",
      "</think>\n",
      "\n",
      "The capital of France is Paris.\n"
     ]
    }
   ],
   "source": [
    "from langchain_groq import ChatGroq\n",
    "\n",
    "llm = ChatGroq(\n",
    "    model=\"deepseek-r1-distill-llama-70b\",\n",
    "    temperature=0\n",
    ")\n",
    "response = llm.invoke(\"What is the capital of France?\")\n",
    "response.pretty_print()"
   ]
  },
  {
   "cell_type": "code",
   "execution_count": 3,
   "id": "22b99a5b",
   "metadata": {},
   "outputs": [],
   "source": [
    "from langchain.tools import tool"
   ]
  },
  {
   "cell_type": "markdown",
   "id": "1f8ddb0d",
   "metadata": {},
   "source": [
    "#### Custom Tools"
   ]
  },
  {
   "cell_type": "code",
   "execution_count": 59,
   "id": "59887357",
   "metadata": {},
   "outputs": [],
   "source": [
    "@tool\n",
    "def add_numbers(a: float, b: float) -> float:\n",
    "    \"\"\"Adds two numbers together.\"\"\"\n",
    "    return a + b\n",
    "\n",
    "@tool\n",
    "def subtract_numbers(a: float, b: float) -> float:\n",
    "    \"\"\"Subtracts the second number from the first.\"\"\"\n",
    "    return a - b\n",
    "\n",
    "@tool\n",
    "def multiply_numbers(a: float, b: float) -> float:\n",
    "    \"\"\"Multiplies two numbers together.\"\"\"\n",
    "    return a * b\n",
    "\n",
    "@tool\n",
    "def divide_numbers(a: float, b: float) -> float:\n",
    "    \"\"\"Divides the first number by the second.\"\"\"\n",
    "    if b == 0:\n",
    "        raise ValueError(\"Cannot divide by zero.\")\n",
    "    return a / b"
   ]
  },
  {
   "cell_type": "code",
   "execution_count": 48,
   "id": "a92cd64b",
   "metadata": {},
   "outputs": [],
   "source": [
    "import yfinance as yf\n",
    "\n",
    "@tool\n",
    "def get_stock_price(ticker: str) -> float:\n",
    "    \"\"\"Fetches the current stock price for a given ticker symbol.\"\"\"\n",
    "    try:\n",
    "        stock = yf.Ticker(ticker)\n",
    "        price = stock.info.get('previousClose', None)\n",
    "        if price is None:\n",
    "            return f\"Could not retrieve stock price for {ticker}. Please check the ticker symbol.\"\n",
    "        return f\"The current stock price of {ticker} is ${price:.2f}.\"\n",
    "    except Exception as e:\n",
    "        return f\"An error occurred while fetching the stock price: {str(e)}\""
   ]
  },
  {
   "cell_type": "markdown",
   "id": "007da1dd",
   "metadata": {},
   "source": [
    "#### InBuilt Tools"
   ]
  },
  {
   "cell_type": "code",
   "execution_count": 5,
   "id": "b8b21bed",
   "metadata": {},
   "outputs": [],
   "source": [
    "from langchain_community.tools import DuckDuckGoSearchRun\n",
    "\n",
    "search = DuckDuckGoSearchRun()"
   ]
  },
  {
   "cell_type": "code",
   "execution_count": 6,
   "id": "dbc0b5ef",
   "metadata": {},
   "outputs": [
    {
     "data": {
      "text/plain": [
       "\"The launch of the iPhone 17 series will almost certainly be Apple's next hardware release. Here's when it looks like it'll be. Planned for September 2025, the iPhone 17 models could feature larger display sizes, ProMotion across the lineup, Wi-Fi 7, and more. We're still in the middle of the iPhone 16 release cycle, but ... The iPhone 17 series is widely expected to be unveiled in September 2025, following Apple's consistent annual release cadence. If Apple sticks to its usual timeline, the iPhone 17 could be announced during a special event around Tuesday, September 9, with pre-orders opening on Friday, September 12, and the official in-store release likely set for Friday, September 19. These projected dates ... Apple iPhone 17 release date: When will the new smartphones launch? Of all the things that are easy to predict about the iPhone 17, the release date is by far the easiest. Eagerly awaiting the Apple's next iPhone? Here's what we know about the upcoming iPhone 17 line-up so far, including a new Air model.\""
      ]
     },
     "execution_count": 6,
     "metadata": {},
     "output_type": "execute_result"
    }
   ],
   "source": [
    "search.invoke(\"When will iphone 17 will be released?\")"
   ]
  },
  {
   "cell_type": "markdown",
   "id": "9cdb60f7",
   "metadata": {},
   "source": [
    "### Tool List"
   ]
  },
  {
   "cell_type": "code",
   "execution_count": 49,
   "id": "800a47ab",
   "metadata": {},
   "outputs": [],
   "source": [
    "tools = [\n",
    "    add_numbers,\n",
    "    subtract_numbers,\n",
    "    multiply_numbers,\n",
    "    divide_numbers,\n",
    "    search,\n",
    "    get_stock_price\n",
    "]"
   ]
  },
  {
   "cell_type": "markdown",
   "id": "05a34bb4",
   "metadata": {},
   "source": [
    "### Bind Tools"
   ]
  },
  {
   "cell_type": "code",
   "execution_count": 50,
   "id": "9d2315d1",
   "metadata": {},
   "outputs": [],
   "source": [
    "llm_with_tools = llm.bind_tools(tools)"
   ]
  },
  {
   "cell_type": "code",
   "execution_count": 10,
   "id": "f1545d05",
   "metadata": {},
   "outputs": [],
   "source": [
    "response = llm_with_tools.invoke(\n",
    "    \"Add 5 and 10, then multiply the result by 2.\"\n",
    "    \"Also, search for the latest news on AI advancements.\"\n",
    ")"
   ]
  },
  {
   "cell_type": "code",
   "execution_count": 11,
   "id": "66e498ea",
   "metadata": {},
   "outputs": [
    {
     "name": "stdout",
     "output_type": "stream",
     "text": [
      "==================================\u001b[1m Ai Message \u001b[0m==================================\n",
      "Tool Calls:\n",
      "  add_numbers (y3efgf572)\n",
      " Call ID: y3efgf572\n",
      "  Args:\n",
      "    a: 5\n",
      "    b: 10\n"
     ]
    }
   ],
   "source": [
    "response.pretty_print()"
   ]
  },
  {
   "cell_type": "code",
   "execution_count": 12,
   "id": "fe2c16bf",
   "metadata": {},
   "outputs": [
    {
     "data": {
      "text/plain": [
       "[{'name': 'add_numbers',\n",
       "  'args': {'a': 5, 'b': 10},\n",
       "  'id': 'y3efgf572',\n",
       "  'type': 'tool_call'}]"
      ]
     },
     "execution_count": 12,
     "metadata": {},
     "output_type": "execute_result"
    }
   ],
   "source": [
    "response.tool_calls"
   ]
  },
  {
   "cell_type": "code",
   "execution_count": 13,
   "id": "9925f69c",
   "metadata": {},
   "outputs": [
    {
     "name": "stdout",
     "output_type": "stream",
     "text": [
      "==================================\u001b[1m Ai Message \u001b[0m==================================\n",
      "Tool Calls:\n",
      "  duckduckgo_search (0k2v83des)\n",
      " Call ID: 0k2v83des\n",
      "  Args:\n",
      "    query: current weather San Francisco\n"
     ]
    }
   ],
   "source": [
    "response = llm_with_tools.invoke(\n",
    "    \"What is the current weather in San Francisco?\"\n",
    ")\n",
    "response.pretty_print()"
   ]
  },
  {
   "cell_type": "markdown",
   "id": "b4baf515",
   "metadata": {},
   "source": [
    "### Graph"
   ]
  },
  {
   "cell_type": "code",
   "execution_count": 22,
   "id": "0e90397f",
   "metadata": {},
   "outputs": [],
   "source": [
    "from langchain_core.messages import AIMessage, HumanMessage\n",
    "from langgraph.graph import MessagesState, StateGraph, START, END\n",
    "from langgraph.prebuilt import ToolNode, tools_condition"
   ]
  },
  {
   "cell_type": "code",
   "execution_count": 23,
   "id": "b994a629",
   "metadata": {},
   "outputs": [],
   "source": [
    "SYSTEM_PROMPT = \"You are a helpful assistant that can perform calculations and search the web.\"\n",
    "\n",
    "def llm_decision(state: MessagesState) -> str:\n",
    "    \n",
    "    user_prompt = state['messages']\n",
    "    input_prompt = [SYSTEM_PROMPT] + user_prompt\n",
    "    response = llm_with_tools.invoke(input_prompt)\n",
    "    return {\"messages\": [response]}"
   ]
  },
  {
   "cell_type": "code",
   "execution_count": 60,
   "id": "763ccb24",
   "metadata": {},
   "outputs": [
    {
     "data": {
      "image/png": "[encoded data removed]",
      "text/plain": [
       "<IPython.core.display.Image object>"
      ]
     },
     "metadata": {},
     "output_type": "display_data"
    }
   ],
   "source": [
    "builder = StateGraph(MessagesState)\n",
    "\n",
    "builder.add_node(\"llm_decision\", llm_decision)\n",
    "builder.add_node(\"tools\", ToolNode(tools))\n",
    "\n",
    "builder.add_edge(START, \"llm_decision\")\n",
    "builder.add_conditional_edges(\n",
    "    \"llm_decision\",\n",
    "    tools_condition\n",
    ")\n",
    "builder.add_edge(\"tools\", \"llm_decision\")\n",
    "\n",
    "react_app = builder.compile()\n",
    "\n",
    "from IPython.display import display, Image\n",
    "display(Image(react_app.get_graph().draw_mermaid_png()))"
   ]
  },
  {
   "cell_type": "code",
   "execution_count": 33,
   "id": "e7b2841d",
   "metadata": {},
   "outputs": [
    {
     "name": "stdout",
     "output_type": "stream",
     "text": [
      "llm_decision: {'messages': [AIMessage(content='', additional_kwargs={'tool_calls': [{'id': 'xnbyyydxy', 'function': {'arguments': '{\"query\":\"Elon Musk net worth\"}', 'name': 'duckduckgo_search'}, 'type': 'function'}]}, response_metadata={'token_usage': {'completion_tokens': 264, 'prompt_tokens': 353, 'total_tokens': 617, 'completion_time': 1.141403662, 'prompt_time': 0.022476574, 'queue_time': 0.057979458, 'total_time': 1.163880236}, 'model_name': 'deepseek-r1-distill-llama-70b', 'system_fingerprint': 'fp_1bbe7845ec', 'finish_reason': 'tool_calls', 'logprobs': None}, id='run--089a33c8-4993-484e-a483-7acf396c7496-0', tool_calls=[{'name': 'duckduckgo_search', 'args': {'query': 'Elon Musk net worth'}, 'id': 'xnbyyydxy', 'type': 'tool_call'}], usage_metadata={'input_tokens': 353, 'output_tokens': 264, 'total_tokens': 617})]}\n",
      "--------------------\n",
      "tools: {'messages': [ToolMessage(content=\"Elon Musk on the 2025 The Richest Person In Every State. ... Elon Musk's net worth fell by the equivalent of almost five times Trump's $5.5 billion net worth Thursday. Elon Musk Net worth: $423 billion Source: Tesla, SpaceX, xAI, X Age: 53 ... As of June 1, 2025, the richest person in the world is Tesla and SpaceX CEO Elon Musk. He's worth $423 billion. He moved into the number one spot in late May 2024, overtaking Bernard Arnault of France. View net worth over: Max 1 year 1 quarter 1 month 1 week. Net Worth Summary. Cash. Private asset. ... 1971 Elon Musk is born in Pretoria, South Africa. 1981 Buys first computer at age 10. Elon Musk is a South African-born Canadian-American businessman, inventor, and investor who has a net worth of $368 billion. Elon Musk is currently the richest person in the world. In November ... Elon Musk has begun 2025 at the pinnacle of wealth, ranking as the world's richest person, with a net worth of $433.9 billion, according to Forbes' latest rankings. Story continues below this ad Musk made headlines last year as the first individual in history to surpass a net worth of $400 billion, driven primarily by SpaceX's staggering ...\", name='duckduckgo_search', id='1852c4b7-5406-4be9-81e9-377148cff35c', tool_call_id='xnbyyydxy')]}\n",
      "--------------------\n",
      "llm_decision: {'messages': [AIMessage(content='', additional_kwargs={'tool_calls': [{'id': 'ea7fs88gx', 'function': {'arguments': '{\"a\":423,\"b\":2}', 'name': 'multiply_numbers'}, 'type': 'function'}]}, response_metadata={'token_usage': {'completion_tokens': 276, 'prompt_tokens': 690, 'total_tokens': 966, 'completion_time': 1.003636364, 'prompt_time': 0.044959198, 'queue_time': 0.058174635999999995, 'total_time': 1.048595562}, 'model_name': 'deepseek-r1-distill-llama-70b', 'system_fingerprint': 'fp_1bbe7845ec', 'finish_reason': 'tool_calls', 'logprobs': None}, id='run--6ab1b5ff-4835-40c1-bfd2-bc350a055a51-0', tool_calls=[{'name': 'multiply_numbers', 'args': {'a': 423, 'b': 2}, 'id': 'ea7fs88gx', 'type': 'tool_call'}], usage_metadata={'input_tokens': 690, 'output_tokens': 276, 'total_tokens': 966})]}\n",
      "--------------------\n",
      "tools: {'messages': [ToolMessage(content='846', name='multiply_numbers', id='9442584a-7455-49fd-bcd8-3ccbddfc4dd9', tool_call_id='ea7fs88gx')]}\n",
      "--------------------\n",
      "llm_decision: {'messages': [AIMessage(content='', additional_kwargs={'tool_calls': [{'id': '8k85nsntx', 'function': {'arguments': '{\"a\":423,\"b\":2}', 'name': 'multiply_numbers'}, 'type': 'function'}]}, response_metadata={'token_usage': {'completion_tokens': 226, 'prompt_tokens': 743, 'total_tokens': 969, 'completion_time': 0.821818182, 'prompt_time': 0.055956319, 'queue_time': 0.058435470999999996, 'total_time': 0.877774501}, 'model_name': 'deepseek-r1-distill-llama-70b', 'system_fingerprint': 'fp_1bbe7845ec', 'finish_reason': 'tool_calls', 'logprobs': None}, id='run--a63c9496-0c1f-416c-b03f-9014dc11be25-0', tool_calls=[{'name': 'multiply_numbers', 'args': {'a': 423, 'b': 2}, 'id': '8k85nsntx', 'type': 'tool_call'}], usage_metadata={'input_tokens': 743, 'output_tokens': 226, 'total_tokens': 969})]}\n",
      "--------------------\n",
      "tools: {'messages': [ToolMessage(content='846', name='multiply_numbers', id='e107491b-d11e-4a64-94b7-1fcb93623724', tool_call_id='8k85nsntx')]}\n",
      "--------------------\n",
      "llm_decision: {'messages': [AIMessage(content=\"Elon Musk's current net worth is $423 billion. Multiplying this by 2 gives:\\n\\n\\\\[\\n2 \\\\times 423\\\\ \\\\text{billion} = 846\\\\ \\\\text{billion}\\n\\\\]\\n\\n**Answer:** 846 billion\", additional_kwargs={}, response_metadata={'token_usage': {'completion_tokens': 296, 'prompt_tokens': 797, 'total_tokens': 1093, 'completion_time': 1.17002425, 'prompt_time': 0.060208816, 'queue_time': 0.057140523, 'total_time': 1.230233066}, 'model_name': 'deepseek-r1-distill-llama-70b', 'system_fingerprint': 'fp_1bbe7845ec', 'finish_reason': 'stop', 'logprobs': None}, id='run--1dd2bbca-66d7-4a1b-aaf9-aec3e83bd0b0-0', usage_metadata={'input_tokens': 797, 'output_tokens': 296, 'total_tokens': 1093})]}\n",
      "--------------------\n"
     ]
    }
   ],
   "source": [
    "for output in react_app.stream(\n",
    "    {\n",
    "        \"messages\": [\n",
    "            HumanMessage(content=\"What is 2 times of Elon Musk Networth?\")\n",
    "        ]\n",
    "    }\n",
    "):\n",
    "    for key, value in output.items():\n",
    "        if key == \"messages\":\n",
    "            for message in value:\n",
    "                print(f\"{message.role}: {message.content}\")\n",
    "        else:\n",
    "            print(f\"{key}: {value}\")\n",
    "            print(\"-\" * 20)\n",
    "        "
   ]
  },
  {
   "cell_type": "code",
   "execution_count": 39,
   "id": "4f0f49bd",
   "metadata": {},
   "outputs": [
    {
     "data": {
      "text/plain": [
       "{'messages': [HumanMessage(content='What is the speed of light in m/s and multiply with 10?', additional_kwargs={}, response_metadata={}, id='5d0453f1-7dba-4a0b-913b-8cac1cd6bd16'),\n",
       "  AIMessage(content='', additional_kwargs={'tool_calls': [{'id': 'tggharj3r', 'function': {'arguments': '{\"a\":299792458,\"b\":10}', 'name': 'multiply_numbers'}, 'type': 'function'}]}, response_metadata={'token_usage': {'completion_tokens': 208, 'prompt_tokens': 357, 'total_tokens': 565, 'completion_time': 0.797300121, 'prompt_time': 0.032557049, 'queue_time': 0.053111971, 'total_time': 0.82985717}, 'model_name': 'deepseek-r1-distill-llama-70b', 'system_fingerprint': 'fp_1bbe7845ec', 'finish_reason': 'tool_calls', 'logprobs': None}, id='run--4227d16e-460e-419b-a487-430625f4c59d-0', tool_calls=[{'name': 'multiply_numbers', 'args': {'a': 299792458, 'b': 10}, 'id': 'tggharj3r', 'type': 'tool_call'}], usage_metadata={'input_tokens': 357, 'output_tokens': 208, 'total_tokens': 565}),\n",
       "  ToolMessage(content='2997924580', name='multiply_numbers', id='57fb29a2-f6c5-44d8-ae4b-3d95b2f51c39', tool_call_id='tggharj3r'),\n",
       "  AIMessage(content='The speed of light in meters per second is approximately **299,792,458 m/s**. When multiplied by 10, the result is **2,997,924,580 m/s**.', additional_kwargs={}, response_metadata={'token_usage': {'completion_tokens': 333, 'prompt_tokens': 416, 'total_tokens': 749, 'completion_time': 1.298521581, 'prompt_time': 0.028862987, 'queue_time': 0.05781440300000001, 'total_time': 1.327384568}, 'model_name': 'deepseek-r1-distill-llama-70b', 'system_fingerprint': 'fp_1bbe7845ec', 'finish_reason': 'stop', 'logprobs': None}, id='run--e27c5d46-42d2-4d2a-9ed9-ce9d70b85b3b-0', usage_metadata={'input_tokens': 416, 'output_tokens': 333, 'total_tokens': 749})]}"
      ]
     },
     "execution_count": 39,
     "metadata": {},
     "output_type": "execute_result"
    }
   ],
   "source": [
    "react_app.invoke({\n",
    "    \"messages\":  [HumanMessage(content=\"What is the speed of light in m/s and multiply with 10?\")]\n",
    "    }\n",
    ")"
   ]
  },
  {
   "cell_type": "code",
   "execution_count": 47,
   "id": "7b517f3a",
   "metadata": {},
   "outputs": [
    {
     "name": "stdout",
     "output_type": "stream",
     "text": [
      "================================\u001b[1m Human Message \u001b[0m=================================\n",
      "\n",
      "What is the speed of light in m/s and multiply with 10?\n",
      "==================================\u001b[1m Ai Message \u001b[0m==================================\n",
      "Tool Calls:\n",
      "  multiply_numbers (9txxznks3)\n",
      " Call ID: 9txxznks3\n",
      "  Args:\n",
      "    a: 299792458\n",
      "    b: 10\n",
      "=================================\u001b[1m Tool Message \u001b[0m=================================\n",
      "Name: multiply_numbers\n",
      "\n",
      "2997924580\n",
      "==================================\u001b[1m Ai Message \u001b[0m==================================\n",
      "\n",
      "The speed of light in meters per second is approximately \\(299,792,458 \\, \\text{m/s}\\). When multiplied by 10, the result is:\n",
      "\n",
      "\\[\n",
      "299,792,458 \\times 10 = 2,997,924,580\n",
      "\\]\n",
      "\n",
      "So, the final answer is:\n",
      "\n",
      "\\[\n",
      "\\boxed{2,\\!997,\\!924,\\!580}\n",
      "\\]\n"
     ]
    }
   ],
   "source": [
    "response = react_app.invoke({\n",
    "    \"messages\":  [HumanMessage(content=\"What is the speed of light in m/s and multiply with 10?\")]\n",
    "    }\n",
    ")\n",
    "\n",
    "for output in response['messages']:\n",
    "    output.pretty_print()"
   ]
  },
  {
   "cell_type": "code",
   "execution_count": 67,
   "id": "744e61ec",
   "metadata": {},
   "outputs": [
    {
     "name": "stdout",
     "output_type": "stream",
     "text": [
      "================================\u001b[1m Human Message \u001b[0m=================================\n",
      "\n",
      "Add 5 to AAPL stock price.\n",
      "==================================\u001b[1m Ai Message \u001b[0m==================================\n",
      "Tool Calls:\n",
      "  get_stock_price (4h13txcj8)\n",
      " Call ID: 4h13txcj8\n",
      "  Args:\n",
      "    ticker: AAPL\n",
      "=================================\u001b[1m Tool Message \u001b[0m=================================\n",
      "Name: get_stock_price\n",
      "\n",
      "The current stock price of AAPL is $198.42.\n",
      "==================================\u001b[1m Ai Message \u001b[0m==================================\n",
      "\n",
      "The current stock price of AAPL is **$198.42**. Adding 5 to this price gives us **$203.42**.\n"
     ]
    }
   ],
   "source": [
    "response = react_app.invoke({\n",
    "    \"messages\":  [HumanMessage(content=\"Add 5 to AAPL stock price.\")]\n",
    "    }\n",
    ")\n",
    "\n",
    "for output in response['messages']:\n",
    "    output.pretty_print()"
   ]
  },
  {
   "cell_type": "code",
   "execution_count": 71,
   "id": "a1c58d83",
   "metadata": {},
   "outputs": [
    {
     "name": "stdout",
     "output_type": "stream",
     "text": [
      "================================\u001b[1m Human Message \u001b[0m=================================\n",
      "\n",
      "Give AAPL stock price and give latest news of this stock\n",
      "==================================\u001b[1m Ai Message \u001b[0m==================================\n",
      "Tool Calls:\n",
      "  get_stock_price (g43634trd)\n",
      " Call ID: g43634trd\n",
      "  Args:\n",
      "    ticker: AAPL\n",
      "=================================\u001b[1m Tool Message \u001b[0m=================================\n",
      "Name: get_stock_price\n",
      "\n",
      "The current stock price of AAPL is $198.42.\n",
      "==================================\u001b[1m Ai Message \u001b[0m==================================\n",
      "Tool Calls:\n",
      "  duckduckgo_search (1f9kt0n8n)\n",
      " Call ID: 1f9kt0n8n\n",
      "  Args:\n",
      "    query: latest news AAPL stock\n",
      "=================================\u001b[1m Tool Message \u001b[0m=================================\n",
      "Name: duckduckgo_search\n",
      "\n",
      "What's going on at Apple (NASDAQ:AAPL)? Read today's AAPL news from trusted media outlets at MarketBeat. Apple (AAPL) stock was downgraded to Hold from Buy by Needham analysts who said the stock is overvalued amid growing AI competition. Get the latest news and real-time alerts from Apple Inc. (AAPL) stock at Seeking Alpha. Get the latest market news for Apple (AAPL). Research AAPL stock and other companies. 100% free, no signups. Known to investors by its AAPL ticker, Apple is a technology icon and the most valuable company on the planet, worth nearly $1 trillion. Check this page for Apple stock news as well as how the ...\n",
      "==================================\u001b[1m Ai Message \u001b[0m==================================\n",
      "\n",
      "The current stock price of AAPL is **$198.42**.\n",
      "\n",
      "As for the latest news about AAPL stock, here's what I found:\n",
      "\n",
      "Apple (AAPL) stock was recently downgraded to \"Hold\" from \"Buy\" by Needham analysts, who believe the stock is overvalued amid growing competition in the AI sector. This downgrade reflects concerns about Apple's position in the market as other companies make strides in artificial intelligence. Stay tuned for more updates!\n"
     ]
    }
   ],
   "source": [
    "response = react_app.invoke({\n",
    "    \"messages\":  [HumanMessage(content=\"Give AAPL stock price and give latest news of this stock\")]\n",
    "    }\n",
    ")\n",
    "\n",
    "for output in response['messages']:\n",
    "    output.pretty_print()"
   ]
  },
  {
   "cell_type": "code",
   "execution_count": null,
   "id": "23b1760e",
   "metadata": {},
   "outputs": [],
   "source": []
  }
 ],
 "metadata": {
  "kernelspec": {
   "display_name": "venv",
   "language": "python",
   "name": "python3"
  },
  "language_info": {
   "codemirror_mode": {
    "name": "ipython",
    "version": 3
   },
   "file_extension": ".py",
   "mimetype": "text/x-python",
   "name": "python",
   "nbconvert_exporter": "python",
   "pygments_lexer": "ipython3",
   "version": "3.10.9"
  }
 },
 "nbformat": 4,
 "nbformat_minor": 5
}
